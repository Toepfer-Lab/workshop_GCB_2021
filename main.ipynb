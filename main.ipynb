{
 "cells": [
  {
   "cell_type": "markdown",
   "id": "f184c1ca",
   "metadata": {
    "slideshow": {
     "slide_type": ""
    }
   },
   "source": [
    "# Welcome\n",
    "\n",
    "Stefano Camborda La Cruz  \n",
    "Dr. Nadine Töpfer\n",
    "  \n",
    "*Metabolic Systems Interactions*"
   ]
  },
  {
   "cell_type": "markdown",
   "id": "b7f4324a",
   "metadata": {
    "slideshow": {
     "slide_type": "subslide"
    }
   },
   "source": [
    "GOAL: Use a generic plant metabolic model to create a C4 leaf model\n",
    "\n",
    "Basic concepts and ideas:\n",
    "- Extending a large-scale metabolic model\n",
    "- Reproducibility and robustness\n",
    "- Implementation using COBRApy and [CobraMod](https://github.com/Toepfer-Lab/cobramod/)\n",
    "\n",
    "*duration: approx. 50min*"
   ]
  },
  {
   "cell_type": "markdown",
   "id": "6f848201",
   "metadata": {
    "slideshow": {
     "slide_type": "slide"
    }
   },
   "source": [
    "### C4 photosynthesis in a nutshell\n",
    "\n",
    "| <img src=\"https://miro.medium.com/max/2400/0*BhzQZYPEV8cGj5mZ.png\" alt=\"drawing\" width=\"900\"/> | <img src=\"https://miro.medium.com/proxy/1*duJX24NyLJ5osWdBHU8Kxg.png\" alt=\"drawing\" width=\"900\"/> |\n",
    "|------------------------------------------------------------------------------------------------|---------------------------------------------------------------------------------------------------|\n",
    "Images taken from [Khan Academy](https://www.khanacademy.org/science/biology/photosynthesis-in-plants/photorespiration--c3-c4-cam-plants/a/c3-c4-and-cam-plants-agriculture)"
   ]
  },
  {
   "cell_type": "markdown",
   "id": "91c03512",
   "metadata": {
    "slideshow": {
     "slide_type": "slide"
    }
   },
   "source": [
    "## Creating the C4 leaf model\n",
    "\n",
    "Load basic Python modules"
   ]
  },
  {
   "cell_type": "code",
   "execution_count": 1,
   "id": "ea3a0713",
   "metadata": {
    "slideshow": {
     "slide_type": "subslide"
    }
   },
   "outputs": [
    {
     "name": "stdout",
     "output_type": "stream",
     "text": [
      "Scaling...\n",
      " A: min|aij| =  1.000e+00  max|aij| =  1.000e+00  ratio =  1.000e+00\n",
      "Problem data seem to be well scaled\n"
     ]
    },
    {
     "name": "stderr",
     "output_type": "stream",
     "text": [
      "/home/stefano/miniconda3/envs/test/lib/python3.9/site-packages/cobramod/parsing/biocyc.py:66: UserWarning: Biocyc version is not the same in CobraMod. Please inform maintainers.\n",
      "  warn(\n"
     ]
    }
   ],
   "source": [
    "from pathlib import Path\n",
    "\n",
    "from cobra.io import read_sbml_model\n",
    "from cobra import Solution, Model\n",
    "\n",
    "from cobramod import add_reactions"
   ]
  },
  {
   "cell_type": "markdown",
   "id": "9113bf7f",
   "metadata": {
    "slideshow": {
     "slide_type": "slide"
    }
   },
   "source": [
    "### Preparation\n",
    "\n",
    "Loading the model and defining directories"
   ]
  },
  {
   "cell_type": "code",
   "execution_count": 2,
   "id": "e542ad0b",
   "metadata": {
    "slideshow": {
     "slide_type": "slide"
    }
   },
   "outputs": [],
   "source": [
    "# Load main model\n",
    "backup = read_sbml_model(\n",
    "    str(Path.cwd().joinpath(\"model\", \"PlantCoreMetabolism_v2_0_0.sbml\"))\n",
    ")\n",
    "# CobraMod essential directory\n",
    "dir_data = Path.cwd().joinpath(\"data\")\n",
    "\n",
    "model = backup.copy()\n",
    "\n",
    "assert backup\n",
    "assert dir_data.exists()"
   ]
  },
  {
   "cell_type": "markdown",
   "id": "22f92207",
   "metadata": {
    "slideshow": {
     "slide_type": "slide"
    }
   },
   "source": [
    "### General uptake constraints\n",
    "\n",
    "Using the attribute `Reaction.bounds`"
   ]
  },
  {
   "cell_type": "code",
   "execution_count": 3,
   "id": "7637a13a",
   "metadata": {
    "scrolled": true,
    "slideshow": {
     "slide_type": "fragment"
    }
   },
   "outputs": [
    {
     "name": "stdout",
     "output_type": "stream",
     "text": [
      "Ca_tx  <=> CAII_e\n",
      "Photon_tx  <=> Photon_e\n",
      "H_tx PROTON_e --> \n",
      "Sucrose_tx  <=> SUCROSE_e\n",
      "H2O_tx  <=> WATER_e\n",
      "CO2_tx  <=> CARBON_DIOXIDE_e\n",
      "O2_tx  <=> OXYGEN_MOLECULE_e\n",
      "Pi_tx  <=> Pi_e\n",
      "Mg_tx  <=> MGII_e\n",
      "Nitrate_tx  <=> NITRATE_e\n",
      "SO4_tx  <=> SULFATE_e\n",
      "NH4_tx  <=> AMMONIUM_e\n",
      "K_tx  <=> KI_e\n",
      "GLC_tx  <=> GLC_e\n"
     ]
    }
   ],
   "source": [
    "for reaction in model.exchanges:\n",
    "    print(reaction.id, reaction.reaction)"
   ]
  },
  {
   "cell_type": "code",
   "execution_count": 4,
   "id": "7b1d8ac6",
   "metadata": {
    "slideshow": {
     "slide_type": "skip"
    }
   },
   "outputs": [],
   "source": [
    "# Skipped\n",
    "# ATP bounds\n",
    "model.reactions.get_by_id(\"ATPase_tx\").bounds = (0, 1000)\n",
    "\n",
    "# NTT is only active at night\n",
    "model.reactions.get_by_id(\"ATP_ADP_Pi_pc\").bounds = (0, 0)\n",
    "\n",
    "model.reactions.get_by_id(\"Plastoquinol_Oxidase_p\").bounds = (0, 0)"
   ]
  },
  {
   "cell_type": "code",
   "execution_count": 5,
   "id": "67ecb4fd",
   "metadata": {
    "slideshow": {
     "slide_type": "subslide"
    }
   },
   "outputs": [],
   "source": [
    "# Defining autotrophic conditions\n",
    "model.reactions.get_by_id(\"CO2_tx\").bounds = (-1000, 1000)\n",
    "model.reactions.get_by_id(\"O2_tx\").bounds = (-1000, 1000)\n",
    "model.reactions.get_by_id(\"H2O_tx\").bounds = (-1000, 1000)\n",
    "\n",
    "model.reactions.get_by_id(\"NH4_tx\").bounds = (0, 0)\n",
    "model.reactions.get_by_id(\"Pi_tx\").bounds = (0, 1000)\n",
    "model.reactions.get_by_id(\"SO4_tx\").bounds = (0, 1000)\n",
    "\n",
    "model.reactions.get_by_id(\"Sucrose_tx\").bounds = (0, 0)\n",
    "model.reactions.get_by_id(\"GLC_tx\").bounds = (0, 0)"
   ]
  },
  {
   "cell_type": "markdown",
   "id": "1a7834a9",
   "metadata": {
    "slideshow": {
     "slide_type": "slide"
    }
   },
   "source": [
    "### Creating and adding new reactions\n",
    "\n",
    "Using `cobramod` to extend the model"
   ]
  },
  {
   "cell_type": "code",
   "execution_count": 6,
   "id": "4e987b77",
   "metadata": {
    "scrolled": true,
    "slideshow": {
     "slide_type": "fragment"
    }
   },
   "outputs": [],
   "source": [
    "# Malate/Pyruvate transporter\n",
    "add_reactions(\n",
    "    model=model,\n",
    "    obj=\"PYR_MAL_pc, Pyruvate/Malate transporter | \"\n",
    "    + \"PYRUVATE_p + MAL_c <-> PYRUVATE_c + MAL_p\",\n",
    "    directory=dir_data,\n",
    ")\n",
    "\n",
    "assert model.reactions.get_by_id(\"PYR_MAL_pc\")"
   ]
  },
  {
   "cell_type": "markdown",
   "id": "12c90a0e",
   "metadata": {
    "slideshow": {
     "slide_type": "notes"
    }
   },
   "source": [
    "Transporter no esta en el model, pero esta en el sistema c4 de plantas"
   ]
  },
  {
   "cell_type": "markdown",
   "id": "94e20db3",
   "metadata": {
    "slideshow": {
     "slide_type": "slide"
    }
   },
   "source": [
    "### Creating mesophyll and bundle sheath cells\n",
    "\n",
    "We use copies of our model and add prefixes to them"
   ]
  },
  {
   "cell_type": "code",
   "execution_count": 7,
   "id": "810b70a6",
   "metadata": {
    "slideshow": {
     "slide_type": "fragment"
    }
   },
   "outputs": [],
   "source": [
    "c3_model = model.copy()\n",
    "c4_mesophyll = model.copy()\n",
    "c4_bundle = model.copy()"
   ]
  },
  {
   "cell_type": "code",
   "execution_count": 8,
   "id": "4b6f59ad",
   "metadata": {
    "slideshow": {
     "slide_type": "slide"
    }
   },
   "outputs": [],
   "source": [
    "# For the mesophyll cell\n",
    "for dictlist in [\n",
    "    c4_mesophyll.reactions,\n",
    "    c4_mesophyll.metabolites,\n",
    "]:\n",
    "    for item in dictlist:\n",
    "        item.id = f\"M_{item.id}\"\n",
    "\n",
    "# For the bundle sheath cell\n",
    "for dictlist in [\n",
    "    c4_bundle.reactions,\n",
    "    c4_bundle.metabolites,\n",
    "]:\n",
    "    for item in dictlist:\n",
    "        item.id = f\"B_{item.id}\"\n",
    "\n",
    "c4_model = c4_mesophyll.merge(right=c4_bundle)"
   ]
  },
  {
   "cell_type": "code",
   "execution_count": 9,
   "id": "2b74c846",
   "metadata": {
    "scrolled": false,
    "slideshow": {
     "slide_type": "subslide"
    }
   },
   "outputs": [
    {
     "data": {
      "text/html": [
       "\n",
       "        <table>\n",
       "            <tr>\n",
       "                <td><strong>Name</strong></td>\n",
       "                <td>PlantCoreMetabolism_v1_3_0</td>\n",
       "            </tr><tr>\n",
       "                <td><strong>Memory address</strong></td>\n",
       "                <td>0x07f3040fe2a00</td>\n",
       "            </tr><tr>\n",
       "                <td><strong>Number of metabolites</strong></td>\n",
       "                <td>861</td>\n",
       "            </tr><tr>\n",
       "                <td><strong>Number of reactions</strong></td>\n",
       "                <td>893</td>\n",
       "            </tr><tr>\n",
       "                <td><strong>Number of groups</strong></td>\n",
       "                <td>208</td>\n",
       "            </tr><tr>\n",
       "                <td><strong>Objective expression</strong></td>\n",
       "                <td>1.0*B_Phloem_output_tx - 1.0*B_Phloem_output_tx_reverse_ef7a0</td>\n",
       "            </tr><tr>\n",
       "                <td><strong>Compartments</strong></td>\n",
       "                <td>Mitochondrion, Cytoplasm, Biomass, Plastid, Vacuole, Peroxisome, Endoplasmic reticulum, Mitochondrion innermembrane interacting with cristal space, Mitochondrion innermembrane interacting with inter membrane space, Extracellular, Thylakoid, Mitochondrial intermembrane space</td>\n",
       "            </tr>\n",
       "          </table>"
      ],
      "text/plain": [
       "<Model PlantCoreMetabolism_v1_3_0 at 0x7f3040fe2a00>"
      ]
     },
     "execution_count": 9,
     "metadata": {},
     "output_type": "execute_result"
    }
   ],
   "source": [
    "c4_bundle"
   ]
  },
  {
   "cell_type": "code",
   "execution_count": 10,
   "id": "84a1b875",
   "metadata": {
    "scrolled": true,
    "slideshow": {
     "slide_type": "fragment"
    }
   },
   "outputs": [
    {
     "data": {
      "text/html": [
       "\n",
       "        <table>\n",
       "            <tr>\n",
       "                <td><strong>Name</strong></td>\n",
       "                <td>PlantCoreMetabolism_v1_3_0</td>\n",
       "            </tr><tr>\n",
       "                <td><strong>Memory address</strong></td>\n",
       "                <td>0x07f3040fe2310</td>\n",
       "            </tr><tr>\n",
       "                <td><strong>Number of metabolites</strong></td>\n",
       "                <td>1629</td>\n",
       "            </tr><tr>\n",
       "                <td><strong>Number of reactions</strong></td>\n",
       "                <td>1786</td>\n",
       "            </tr><tr>\n",
       "                <td><strong>Number of groups</strong></td>\n",
       "                <td>208</td>\n",
       "            </tr><tr>\n",
       "                <td><strong>Objective expression</strong></td>\n",
       "                <td>1.0*M_Phloem_output_tx - 1.0*M_Phloem_output_tx_reverse_d57a8</td>\n",
       "            </tr><tr>\n",
       "                <td><strong>Compartments</strong></td>\n",
       "                <td>Mitochondrion, Cytoplasm, Biomass, Plastid, Vacuole, Peroxisome, Endoplasmic reticulum, Mitochondrion innermembrane interacting with cristal space, Mitochondrion innermembrane interacting with inter membrane space, Extracellular, Thylakoid, Mitochondrial intermembrane space</td>\n",
       "            </tr>\n",
       "          </table>"
      ],
      "text/plain": [
       "<Model PlantCoreMetabolism_v1_3_0 at 0x7f3040fe2310>"
      ]
     },
     "execution_count": 10,
     "metadata": {},
     "output_type": "execute_result"
    }
   ],
   "source": [
    "c4_model"
   ]
  },
  {
   "cell_type": "markdown",
   "id": "a6b6f8ba",
   "metadata": {
    "slideshow": {
     "slide_type": "slide"
    }
   },
   "source": [
    "### Testing the new reactions\n",
    "\n",
    "- Using the `assert` statement\n",
    "- Confirm existence of reaction in cells"
   ]
  },
  {
   "cell_type": "code",
   "execution_count": 11,
   "id": "0b5df6bc",
   "metadata": {
    "slideshow": {
     "slide_type": "fragment"
    }
   },
   "outputs": [],
   "source": [
    "assert c4_model.reactions.get_by_id(\"M_O2_tx\")\n",
    "assert c4_model.reactions.get_by_id(\"B_O2_tx\")\n",
    "assert c4_model.reactions.get_by_id(\"M_THREDEHYD_RXN_p\")\n",
    "assert c4_model.reactions.get_by_id(\"B_THREDEHYD_RXN_p\")"
   ]
  },
  {
   "cell_type": "markdown",
   "id": "79471df9",
   "metadata": {
    "slideshow": {
     "slide_type": "slide"
    }
   },
   "source": [
    "### Adding transport reactions between the mesophyll and bundle sheath cells\n",
    "\n",
    "- Selecting metabolites\n",
    "- Creating reactions\n",
    "- Testing"
   ]
  },
  {
   "cell_type": "code",
   "execution_count": 12,
   "id": "d2380961",
   "metadata": {
    "slideshow": {
     "slide_type": "fragment"
    }
   },
   "outputs": [],
   "source": [
    "for identifier in [\"MAL_c\", \"PYRUVATE_c\"]:\n",
    "    add_reactions(\n",
    "        model=c4_model,\n",
    "        obj=f\"MB_{identifier}, {identifier} bundle sheath/mesophyll cell \"\n",
    "        f\"transporter | M_{identifier} <-> B_{identifier}\",\n",
    "        show_imbalance=False,\n",
    "        directory=dir_data,\n",
    "    )\n",
    "    assert c4_model.reactions.get_by_id(f\"MB_{identifier}\")"
   ]
  },
  {
   "cell_type": "markdown",
   "id": "4277d48f",
   "metadata": {
    "slideshow": {
     "slide_type": "slide"
    }
   },
   "source": [
    "### C4-specific constrains\n",
    "\n",
    "- No CO2 uptake in bundle sheath cells\n",
    "- Block rubisco activity in the mesophyll\n",
    "- Enforce NADP-ME decarboxylation pathways (e.g. in maize)\n",
    "\n",
    "Examples:"
   ]
  },
  {
   "cell_type": "code",
   "execution_count": 14,
   "id": "d430a801",
   "metadata": {
    "slideshow": {
     "slide_type": "fragment"
    }
   },
   "outputs": [],
   "source": [
    "c4_model.reactions.get_by_id(\"B_CO2_tx\").bounds = (0, 0)\n",
    "# Carboxylase\n",
    "c4_model.reactions.get_by_id(\n",
    "    \"M_RIBULOSE_BISPHOSPHATE_CARBOXYLASE_RXN_p\"\n",
    ").bounds = (0, 0)\n",
    "# Oxygenase\n",
    "c4_model.reactions.get_by_id(\"M_RXN_961_p\").bounds = (0, 0)"
   ]
  },
  {
   "cell_type": "code",
   "execution_count": 15,
   "id": "5f3c1598",
   "metadata": {
    "slideshow": {
     "slide_type": "skip"
    }
   },
   "outputs": [],
   "source": [
    "# Force NADP-ME decarboxylation pathway:\n",
    "# Block all other decarboxylation reactions except NADP_ME in the plastid\n",
    "c4_model.reactions.get_by_id(\"B_PEPCARBOXYKIN_RXN_c\").bounds = (0, 0)\n",
    "c4_model.reactions.get_by_id(\n",
    "    \"B_1_PERIOD_1_PERIOD_1_PERIOD_39_RXN_m\"\n",
    ").bounds = (0, 0)\n",
    "c4_model.reactions.get_by_id(\"B_MALIC_NADP_RXN_c\").bounds = (0, 0)\n"
   ]
  },
  {
   "cell_type": "code",
   "execution_count": 16,
   "id": "8b3b84df",
   "metadata": {
    "slideshow": {
     "slide_type": "skip"
    }
   },
   "outputs": [],
   "source": [
    "# Force NADP-ME decarboxylation pathways:\n",
    "# make alternative decarboxylation routes irreversible\n",
    "c4_model.reactions.get_by_id(\"B_CARBAMATE_KINASE_RXN_p\").bounds = (\n",
    "    0,\n",
    "    1000,\n",
    ")\n",
    "c4_model.reactions.get_by_id(\"M_CARBAMATE_KINASE_RXN_p\").bounds = (\n",
    "    0,\n",
    "    1000,\n",
    ")\n",
    "c4_model.reactions.get_by_id(\"B_ISOCITDEH_RXN_m\").bounds = (0, 1000)\n",
    "c4_model.reactions.get_by_id(\"M_ISOCITDEH_RXN_m\").bounds = (0, 1000)\n",
    "c4_model.reactions.get_by_id(\"B_ISOCITDEH_RXN_c\").bounds = (0, 1000)\n",
    "c4_model.reactions.get_by_id(\"M_ISOCITDEH_RXN_c\").bounds = (0, 1000)\n",
    "c4_model.reactions.get_by_id(\"B_ISOCITRATE_DEHYDROGENASE_NAD_RXN_m\").bounds = (\n",
    "    0,\n",
    "    1000,\n",
    ")\n",
    "c4_model.reactions.get_by_id(\"M_ISOCITRATE_DEHYDROGENASE_NAD_RXN_m\").bounds = (\n",
    "    0,\n",
    "    1000,\n",
    ")"
   ]
  },
  {
   "cell_type": "code",
   "execution_count": 17,
   "id": "1526239a",
   "metadata": {
    "slideshow": {
     "slide_type": "skip"
    }
   },
   "outputs": [],
   "source": [
    "# skipped\n",
    "# Fix malate transport\n",
    "c4_model.reactions.get_by_id(\"B_OAA_MAL_pc\").bounds = (0, 1000)\n",
    "\n",
    "c4_model.reactions.get_by_id(\"B_PYRUVATE_pc\").bounds = (0, 0)\n",
    "\n",
    "c4_model.reactions.get_by_id(\n",
    "    \"M_PYRUVATEORTHOPHOSPHATE_DIKINASE_RXN_c\"\n",
    ").bounds = (0, 0)"
   ]
  },
  {
   "cell_type": "code",
   "execution_count": 18,
   "id": "f0e11201",
   "metadata": {
    "slideshow": {
     "slide_type": "skip"
    }
   },
   "outputs": [],
   "source": [
    "# Skipped\n",
    "# NGAM for C3\n",
    "const = c3_model.problem.Constraint(\n",
    "    (0.0049 * c3_model.reactions.Photon_tx.flux_expression + 2.7852)\n",
    "    - c3_model.reactions.ATPase_tx.flux_expression,\n",
    "    lb=0,\n",
    "    ub=0,\n",
    ")\n",
    "c3_model.add_cons_vars(const)\n",
    "\n",
    "# ATP/NADPH 3:1 constraints\n",
    "const = c3_model.problem.Constraint(\n",
    "    c3_model.reactions.ATPase_tx.flux_expression\n",
    "    - 3\n",
    "    * (\n",
    "        c3_model.reactions.NADPHoxc_tx.flux_expression\n",
    "        + c3_model.reactions.NADPHoxp_tx.flux_expression\n",
    "        + c3_model.reactions.NADPHoxm_tx.flux_expression\n",
    "    ),\n",
    "    lb=0,\n",
    "    ub=0,\n",
    ")\n",
    "c3_model.add_cons_vars(const)\n",
    "\n",
    "# Rubisco\n",
    "# ATP/NADPH 3:1 constraints\n",
    "const = c3_model.problem.Constraint(\n",
    "    3 * c3_model.reactions.RXN_961_p.flux_expression -\n",
    "    c3_model.reactions.RIBULOSE_BISPHOSPHATE_CARBOXYLASE_RXN_p.flux_expression, \n",
    "    lb=0,\n",
    "    ub=0,\n",
    ")\n",
    "c3_model.add_cons_vars(const)"
   ]
  },
  {
   "cell_type": "markdown",
   "id": "49f60654",
   "metadata": {
    "slideshow": {
     "slide_type": "slide"
    }
   },
   "source": [
    "### Using more complex constrains\n",
    "\n",
    "- Using `Constraint` objects\n",
    "- Define expression and their bounds\n",
    "- Can combine multiple reactions"
   ]
  },
  {
   "cell_type": "markdown",
   "id": "5f8503ac",
   "metadata": {
    "slideshow": {
     "slide_type": "subslide"
    }
   },
   "source": [
    "Example: Sum of nitrate uptake in mesophyll and bundle sheath\n",
    "cells cannot surpass a flux sum of 1000"
   ]
  },
  {
   "cell_type": "code",
   "execution_count": 19,
   "id": "e145aaae",
   "metadata": {
    "slideshow": {
     "slide_type": "skip"
    }
   },
   "outputs": [],
   "source": [
    "# Skipped\n",
    "# Constrains for light dependent maintenance costs\n",
    "atp_b = c4_model.reactions.get_by_id(\"B_ATPase_tx\")\n",
    "photon_b = c4_model.reactions.get_by_id(\"B_Photon_tx\")\n",
    "atp_m = c4_model.reactions.get_by_id(\"M_ATPase_tx\")\n",
    "photon_m = c4_model.reactions.get_by_id(\"M_Photon_tx\")\n",
    "\n",
    "const_b = c4_model.problem.Constraint(\n",
    "    (0.0049 * photon_b.flux_expression + 2.7852) - atp_b.flux_expression,\n",
    "    lb=0,\n",
    "    ub=0,\n",
    ")\n",
    "\n",
    "const_m = c4_model.problem.Constraint(\n",
    "    (0.0049 * photon_m.flux_expression + 2.7852) - atp_m.flux_expression,\n",
    "    lb=0,\n",
    "    ub=0,\n",
    ")\n",
    "c4_model.add_cons_vars([const_b, const_m])"
   ]
  },
  {
   "cell_type": "code",
   "execution_count": 20,
   "id": "af5e3fd2",
   "metadata": {
    "slideshow": {
     "slide_type": "fragment"
    }
   },
   "outputs": [],
   "source": [
    "# CONSTRAINT : Total N uptake must not surpass defined upper bound\n",
    "bs_nitrate = c4_model.reactions.get_by_id(\"B_Nitrate_tx\").flux_expression\n",
    "m_nitrate = c4_model.reactions.get_by_id(\"M_Nitrate_tx\").flux_expression\n",
    "\n",
    "nitrate_ratio = c4_model.problem.Constraint(\n",
    "    bs_nitrate + m_nitrate, lb=0, ub=1000\n",
    ")\n",
    "\n",
    "c4_model.add_cons_vars([nitrate_ratio])"
   ]
  },
  {
   "cell_type": "code",
   "execution_count": 21,
   "id": "79ccd6ef",
   "metadata": {
    "slideshow": {
     "slide_type": "skip"
    }
   },
   "outputs": [],
   "source": [
    "# Skipped\n",
    "# ATP/NADPH 3:1 constraints\n",
    "for cell in [\"B_\", \"M_\"]:\n",
    "    const = c4_model.problem.Constraint(\n",
    "        c4_model.reactions.get_by_id(f\"{cell}ATPase_tx\").flux_expression\n",
    "        - 3\n",
    "        * (\n",
    "            c4_model.reactions.get_by_id(f\"{cell}NADPHoxc_tx\").flux_expression\n",
    "            + c4_model.reactions.get_by_id(\n",
    "                f\"{cell}NADPHoxp_tx\"\n",
    "            ).flux_expression\n",
    "            + c4_model.reactions.get_by_id(\n",
    "                f\"{cell}NADPHoxm_tx\"\n",
    "            ).flux_expression\n",
    "        ),\n",
    "        lb=0,\n",
    "        ub=0,\n",
    "    )\n",
    "    c4_model.add_cons_vars(const)\n"
   ]
  },
  {
   "cell_type": "markdown",
   "id": "1e6b82ae",
   "metadata": {
    "slideshow": {
     "slide_type": "slide"
    }
   },
   "source": [
    "### Simulating the model by optimising biomass production\n",
    "\n",
    "$\\rightarrow$ biomass reaction\n",
    "\n",
    "Solution example:"
   ]
  },
  {
   "cell_type": "code",
   "execution_count": 22,
   "id": "e0860b19",
   "metadata": {
    "scrolled": false,
    "slideshow": {
     "slide_type": "fragment"
    }
   },
   "outputs": [
    {
     "data": {
      "text/html": [
       "<strong><em>Optimal</em> solution with objective value 1.445</strong><br><div>\n",
       "<style scoped>\n",
       "    .dataframe tbody tr th:only-of-type {\n",
       "        vertical-align: middle;\n",
       "    }\n",
       "\n",
       "    .dataframe tbody tr th {\n",
       "        vertical-align: top;\n",
       "    }\n",
       "\n",
       "    .dataframe thead th {\n",
       "        text-align: right;\n",
       "    }\n",
       "</style>\n",
       "<table border=\"1\" class=\"dataframe\">\n",
       "  <thead>\n",
       "    <tr style=\"text-align: right;\">\n",
       "      <th></th>\n",
       "      <th>fluxes</th>\n",
       "      <th>reduced_costs</th>\n",
       "    </tr>\n",
       "  </thead>\n",
       "  <tbody>\n",
       "    <tr>\n",
       "      <th>M_PRO_PROTON_vc</th>\n",
       "      <td>0.000000e+00</td>\n",
       "      <td>9.787731e-18</td>\n",
       "    </tr>\n",
       "    <tr>\n",
       "      <th>M_Ca_tx</th>\n",
       "      <td>0.000000e+00</td>\n",
       "      <td>-0.000000e+00</td>\n",
       "    </tr>\n",
       "    <tr>\n",
       "      <th>M_H2O_xc</th>\n",
       "      <td>1.921197e-13</td>\n",
       "      <td>-0.000000e+00</td>\n",
       "    </tr>\n",
       "    <tr>\n",
       "      <th>M_sCIT_biomass</th>\n",
       "      <td>0.000000e+00</td>\n",
       "      <td>-0.000000e+00</td>\n",
       "    </tr>\n",
       "    <tr>\n",
       "      <th>M_ACETYLGLUTKIN_RXN_p</th>\n",
       "      <td>0.000000e+00</td>\n",
       "      <td>-2.602085e-18</td>\n",
       "    </tr>\n",
       "    <tr>\n",
       "      <th>...</th>\n",
       "      <td>...</td>\n",
       "      <td>...</td>\n",
       "    </tr>\n",
       "    <tr>\n",
       "      <th>B_SYRINGICACID_BIOSYNTHESIS_c</th>\n",
       "      <td>0.000000e+00</td>\n",
       "      <td>0.000000e+00</td>\n",
       "    </tr>\n",
       "    <tr>\n",
       "      <th>B_VANILLICACID_BIOSYNTHESIS_c</th>\n",
       "      <td>0.000000e+00</td>\n",
       "      <td>0.000000e+00</td>\n",
       "    </tr>\n",
       "    <tr>\n",
       "      <th>B_PYR_MAL_pc</th>\n",
       "      <td>1.060279e+02</td>\n",
       "      <td>0.000000e+00</td>\n",
       "    </tr>\n",
       "    <tr>\n",
       "      <th>MB_MAL_c</th>\n",
       "      <td>1.251705e+02</td>\n",
       "      <td>0.000000e+00</td>\n",
       "    </tr>\n",
       "    <tr>\n",
       "      <th>MB_PYRUVATE_c</th>\n",
       "      <td>-1.251705e+02</td>\n",
       "      <td>-0.000000e+00</td>\n",
       "    </tr>\n",
       "  </tbody>\n",
       "</table>\n",
       "<p>1788 rows × 2 columns</p>\n",
       "</div>"
      ],
      "text/plain": [
       "<Solution 1.445 at 0x7f3025a6c8e0>"
      ]
     },
     "execution_count": 22,
     "metadata": {},
     "output_type": "execute_result"
    }
   ],
   "source": [
    "c4_model.objective = \"B_AraCore_Biomass_tx\"\n",
    "c4_model.optimize()"
   ]
  },
  {
   "cell_type": "markdown",
   "id": "8e9b8b6f",
   "metadata": {
    "cell_style": "split",
    "slideshow": {
     "slide_type": "slide"
    }
   },
   "source": [
    "### C4 mechanism\n",
    "\n",
    "<img src=\"https://upload.wikimedia.org/wikipedia/commons/thumb/2/26/C4_photosynthesis_NADP-ME_type_en.svg/1920px-C4_photosynthesis_NADP-ME_type_en.svg.png\" alt=\"drawing\" width=\"1500\"/>\n",
    "<font size=\"5\">PEPC: PEP Carboxylase; NADP-MDH : Malate Dehydrogenase; NADP-ME: NADP Malic enzyme; PPDK: Pyruvate-phosphate dikinase.</font>\n",
    " \n"
   ]
  },
  {
   "cell_type": "markdown",
   "id": "cfa1d759",
   "metadata": {
    "cell_style": "split",
    "slideshow": {
     "slide_type": "subslide"
    }
   },
   "source": [
    "### C4 mechanism\n",
    "\n",
    "<img src=\"https://upload.wikimedia.org/wikipedia/commons/thumb/2/26/C4_photosynthesis_NADP-ME_type_en.svg/1920px-C4_photosynthesis_NADP-ME_type_en.svg.png\" alt=\"drawing\" width=\"3000\"/>\n",
    "<font size=\"5\">PEPC: PEP Carboxylase; NADP-MDH : Malate Dehydrogenase; NADP-ME: NADP Malic enzyme; PPDK: Pyruvate-phosphate dikinase.</font>\n",
    " \n"
   ]
  },
  {
   "cell_type": "markdown",
   "id": "4874c74e",
   "metadata": {
    "cell_style": "split",
    "slideshow": {
     "slide_type": "fragment"
    }
   },
   "source": [
    "#### Malate dehydrogenase"
   ]
  },
  {
   "cell_type": "code",
   "execution_count": 23,
   "id": "03e9e2fc",
   "metadata": {
    "cell_style": "split",
    "scrolled": false,
    "slideshow": {
     "slide_type": "fragment"
    }
   },
   "outputs": [
    {
     "name": "stdout",
     "output_type": "stream",
     "text": [
      "M_MALATE_DEHYDROGENASE_NADP_RXN_p 146.79216348544594\n"
     ]
    }
   ],
   "source": [
    "for reaction in c4_model.reactions.query(\n",
    "    \"M_MALATE_DEHYDROGENASE_NADP_RXN_[c,p]\"\n",
    "):\n",
    "    print(\n",
    "        reaction.id,\n",
    "        c4_model.optimize().fluxes[reaction.id]\n",
    "    )"
   ]
  },
  {
   "cell_type": "code",
   "execution_count": null,
   "id": "7ea3ab85",
   "metadata": {
    "slideshow": {
     "slide_type": "skip"
    }
   },
   "outputs": [],
   "source": []
  },
  {
   "cell_type": "markdown",
   "id": "9f3d3f6d",
   "metadata": {
    "cell_style": "split",
    "slideshow": {
     "slide_type": "slide"
    }
   },
   "source": [
    "### C4 mechanism\n",
    "\n",
    "<img src=\"https://upload.wikimedia.org/wikipedia/commons/thumb/2/26/C4_photosynthesis_NADP-ME_type_en.svg/1920px-C4_photosynthesis_NADP-ME_type_en.svg.png\" alt=\"drawing\" width=\"3000\"/>\n",
    "<font size=\"5\">PEPC: PEP Carboxylase; NADP-MDH : Malate Dehydrogenase; NADP-ME: NADP Malic enzyme; PPDK: Pyruvate-phosphate dikinase.</font>\n",
    " \n"
   ]
  },
  {
   "cell_type": "markdown",
   "id": "e6397f0c",
   "metadata": {
    "cell_style": "split",
    "slideshow": {
     "slide_type": "fragment"
    }
   },
   "source": [
    "#### NADP malic enzyme"
   ]
  },
  {
   "cell_type": "code",
   "execution_count": 24,
   "id": "028e32b5",
   "metadata": {
    "cell_style": "split",
    "slideshow": {
     "slide_type": "fragment"
    }
   },
   "outputs": [
    {
     "name": "stdout",
     "output_type": "stream",
     "text": [
      "B_MALIC_NADP_RXN_p 118.00792044544465\n"
     ]
    }
   ],
   "source": [
    "for reaction in c4_model.reactions.query(\n",
    "    \"B_MALIC_NADP_RXN_p\"\n",
    "):\n",
    "    print(\n",
    "        reaction.id,\n",
    "        c4_model.optimize().fluxes[reaction.id]\n",
    "    )"
   ]
  },
  {
   "cell_type": "code",
   "execution_count": null,
   "id": "2af57fa6",
   "metadata": {
    "slideshow": {
     "slide_type": "skip"
    }
   },
   "outputs": [],
   "source": []
  },
  {
   "cell_type": "markdown",
   "id": "b4f49671",
   "metadata": {
    "cell_style": "split",
    "slideshow": {
     "slide_type": "slide"
    }
   },
   "source": [
    "### C4 mechanism\n",
    "\n",
    "<img src=\"https://upload.wikimedia.org/wikipedia/commons/thumb/2/26/C4_photosynthesis_NADP-ME_type_en.svg/1920px-C4_photosynthesis_NADP-ME_type_en.svg.png\" alt=\"drawing\" width=\"3000\"/>\n",
    "<font size=\"5\">PEPC: PEP Carboxylase; NADP-MDH : Malate Dehydrogenase; NADP-ME: NADP Malic enzyme; PPDK: Pyruvate-phosphate dikinase.</font>\n",
    " \n"
   ]
  },
  {
   "cell_type": "markdown",
   "id": "419deabe",
   "metadata": {
    "cell_style": "split",
    "slideshow": {
     "slide_type": "fragment"
    }
   },
   "source": [
    "#### Pyruvate-phosphate dikinase"
   ]
  },
  {
   "cell_type": "code",
   "execution_count": 25,
   "id": "9bda4823",
   "metadata": {
    "cell_style": "split",
    "slideshow": {
     "slide_type": "fragment"
    }
   },
   "outputs": [
    {
     "name": "stdout",
     "output_type": "stream",
     "text": [
      "M_PYRUVATEORTHOPHOSPHATE_DIKINASE_RXN_p 125.17047572434029\n"
     ]
    }
   ],
   "source": [
    "for reaction in c4_model.reactions.query(\n",
    "    \"M_PYRUVATEORTHOPHOSPHATE_DIKINASE_RXN_p\"\n",
    "):\n",
    "    print(\n",
    "        reaction.id,\n",
    "        c4_model.optimize().fluxes[reaction.id]\n",
    "    )"
   ]
  },
  {
   "cell_type": "code",
   "execution_count": null,
   "id": "62526b15",
   "metadata": {
    "slideshow": {
     "slide_type": "skip"
    }
   },
   "outputs": [],
   "source": []
  },
  {
   "cell_type": "markdown",
   "id": "59a5ee8a",
   "metadata": {
    "cell_style": "split",
    "slideshow": {
     "slide_type": "slide"
    }
   },
   "source": [
    "### C4 mechanism\n",
    "\n",
    "<img src=\"https://upload.wikimedia.org/wikipedia/commons/thumb/2/26/C4_photosynthesis_NADP-ME_type_en.svg/1920px-C4_photosynthesis_NADP-ME_type_en.svg.png\" alt=\"drawing\" width=\"3000\"/>\n",
    "<font size=\"5\">PEPC: PEP Carboxylase; NADP-MDH : Malate Dehydrogenase; NADP-ME: NADP Malic enzyme; PPDK: Pyruvate-phosphate dikinase.</font>\n",
    " \n"
   ]
  },
  {
   "cell_type": "markdown",
   "id": "0c3f1907",
   "metadata": {
    "cell_style": "split",
    "slideshow": {
     "slide_type": "fragment"
    }
   },
   "source": [
    "#### Transporters"
   ]
  },
  {
   "cell_type": "code",
   "execution_count": 26,
   "id": "2b8ea159",
   "metadata": {
    "cell_style": "split",
    "scrolled": true,
    "slideshow": {
     "slide_type": "fragment"
    }
   },
   "outputs": [
    {
     "name": "stdout",
     "output_type": "stream",
     "text": [
      "MB_MAL_c M_MAL_c <=> B_MAL_c 125.17047572434059\n"
     ]
    }
   ],
   "source": [
    "for reaction in c4_model.reactions.query(\n",
    "    \"MB_MAL\"\n",
    "):\n",
    "    print(\n",
    "        reaction.id, reaction.reaction, \n",
    "        c4_model.optimize().fluxes[reaction.id]\n",
    "    )"
   ]
  },
  {
   "cell_type": "code",
   "execution_count": 27,
   "id": "7b6b50c2",
   "metadata": {
    "cell_style": "split",
    "slideshow": {
     "slide_type": "fragment"
    }
   },
   "outputs": [
    {
     "name": "stdout",
     "output_type": "stream",
     "text": [
      "MB_PYRUVATE_c M_PYRUVATE_c <=> B_PYRUVATE_c -125.1704757243403\n"
     ]
    }
   ],
   "source": [
    "for reaction in c4_model.reactions.query(\n",
    "    \"MB_PYRUVATE\"\n",
    "):\n",
    "    print(\n",
    "        reaction.id, reaction.reaction,\n",
    "        c4_model.optimize().fluxes[reaction.id])"
   ]
  },
  {
   "cell_type": "markdown",
   "id": "d72148fd",
   "metadata": {
    "slideshow": {
     "slide_type": "slide"
    }
   },
   "source": [
    "### Comparison"
   ]
  },
  {
   "cell_type": "code",
   "execution_count": 28,
   "id": "876bd0ae",
   "metadata": {
    "slideshow": {
     "slide_type": "fragment"
    }
   },
   "outputs": [],
   "source": [
    "c4_model.objective = \"B_AraCore_Biomass_tx\"\n",
    "c4_solution = c4_model.optimize()"
   ]
  },
  {
   "cell_type": "code",
   "execution_count": 29,
   "id": "1c206c5b",
   "metadata": {
    "scrolled": false,
    "slideshow": {
     "slide_type": "fragment"
    }
   },
   "outputs": [],
   "source": [
    "c3_model.objective = \"AraCore_Biomass_tx\"\n",
    "c3_solution = c3_model.optimize()"
   ]
  },
  {
   "cell_type": "markdown",
   "id": "d0e59e69",
   "metadata": {
    "slideshow": {
     "slide_type": "subslide"
    }
   },
   "source": [
    "#### Biomass production"
   ]
  },
  {
   "cell_type": "code",
   "execution_count": 30,
   "id": "16bb015c",
   "metadata": {
    "slideshow": {
     "slide_type": "fragment"
    }
   },
   "outputs": [
    {
     "name": "stdout",
     "output_type": "stream",
     "text": [
      "<Solution 1.445 at 0x7f30411274f0>\n",
      "<Solution 0.727 at 0x7f3025a89d90>\n"
     ]
    }
   ],
   "source": [
    "print(c4_solution)\n",
    "print(c3_solution)"
   ]
  },
  {
   "cell_type": "markdown",
   "id": "f815e60c",
   "metadata": {
    "slideshow": {
     "slide_type": "skip"
    }
   },
   "source": [
    "#### RuBisco reactions"
   ]
  },
  {
   "cell_type": "code",
   "execution_count": 31,
   "id": "53c09930",
   "metadata": {
    "scrolled": false,
    "slideshow": {
     "slide_type": "skip"
    }
   },
   "outputs": [
    {
     "name": "stdout",
     "output_type": "stream",
     "text": [
      "M_RIBULOSE_BISPHOSPHATE_CARBOXYLASE_RXN_p 0.0\n",
      "B_RIBULOSE_BISPHOSPHATE_CARBOXYLASE_RXN_p 135.7518212702515\n",
      "M_RXN_961_p 0.0\n",
      "B_RXN_961_p 0.0\n"
     ]
    }
   ],
   "source": [
    "for reaction in c4_model.reactions.query(\"RIBULOSE_BISPHOSPHATE_CARBOXYLASE_RXN\"):\n",
    "    print(reaction.id,  c4_solution.fluxes[reaction.id])\n",
    "for reaction in c4_model.reactions.query(\"RXN_961\"):\n",
    "    print(reaction.id,  c4_solution.fluxes[reaction.id])"
   ]
  },
  {
   "cell_type": "code",
   "execution_count": 32,
   "id": "4c44e144",
   "metadata": {
    "scrolled": true,
    "slideshow": {
     "slide_type": "skip"
    }
   },
   "outputs": [
    {
     "name": "stdout",
     "output_type": "stream",
     "text": [
      "RIBULOSE_BISPHOSPHATE_CARBOXYLASE_RXN_p 72.60511972942481\n",
      "RXN_961_p 24.20170657647494\n"
     ]
    }
   ],
   "source": [
    "for reaction in c3_model.reactions.query(\"RIBULOSE_BISPHOSPHATE_CARBOXYLASE_RXN\"):\n",
    "    print(reaction.id,  c3_solution.fluxes[reaction.id])\n",
    "for reaction in c3_model.reactions.query(\"RXN_961\"):\n",
    "    print(reaction.id,  c3_solution.fluxes[reaction.id])"
   ]
  },
  {
   "cell_type": "markdown",
   "id": "3c54c292",
   "metadata": {
    "slideshow": {
     "slide_type": "skip"
    }
   },
   "source": [
    "#### CO2 intake and O2 output "
   ]
  },
  {
   "cell_type": "code",
   "execution_count": 33,
   "id": "1c66bdb9",
   "metadata": {
    "scrolled": true,
    "slideshow": {
     "slide_type": "skip"
    }
   },
   "outputs": [
    {
     "name": "stdout",
     "output_type": "stream",
     "text": [
      "M_CO2_tx 125.17047572434018\n",
      "M_O2_tx -62.5852378621703\n",
      "B_CO2_tx 0.0\n",
      "B_O2_tx -91.78093974262296\n"
     ]
    }
   ],
   "source": [
    "for reaction in c4_model.reactions.query(\"O2_tx\"):\n",
    "    print(reaction.id,  c4_solution.fluxes[reaction.id])"
   ]
  },
  {
   "cell_type": "code",
   "execution_count": 34,
   "id": "f41e1ac3",
   "metadata": {
    "slideshow": {
     "slide_type": "skip"
    }
   },
   "outputs": [
    {
     "name": "stdout",
     "output_type": "stream",
     "text": [
      "CO2_tx 63.015022739727875\n",
      "O2_tx -77.71311993279774\n"
     ]
    }
   ],
   "source": [
    "for reaction in c3_model.reactions.query(\"O2_tx\"):\n",
    "    print(reaction.id,  c3_solution.fluxes[reaction.id])"
   ]
  },
  {
   "cell_type": "markdown",
   "id": "e54d7a84",
   "metadata": {
    "slideshow": {
     "slide_type": "slide"
    }
   },
   "source": [
    "### Questions?"
   ]
  },
  {
   "cell_type": "markdown",
   "id": "5922dc7d",
   "metadata": {
    "slideshow": {
     "slide_type": "slide"
    }
   },
   "source": [
    "### Thank you very much!!"
   ]
  }
 ],
 "metadata": {
  "celltoolbar": "Slideshow",
  "kernelspec": {
   "display_name": "Python 3 (ipykernel)",
   "language": "python",
   "name": "python3"
  },
  "language_info": {
   "codemirror_mode": {
    "name": "ipython",
    "version": 3
   },
   "file_extension": ".py",
   "mimetype": "text/x-python",
   "name": "python",
   "nbconvert_exporter": "python",
   "pygments_lexer": "ipython3",
   "version": "3.9.6"
  },
  "rise": {
   "enable_chalkboard": true,
   "overlay": "<div class='myfooter'>GCB 2021</div><div class='logo'><img src='img/ipk_logo.jpg' alt='IPK'></div>",
   "rise": {
    "autolaunch": true
   },
   "scroll": true
  }
 },
 "nbformat": 4,
 "nbformat_minor": 5
}
