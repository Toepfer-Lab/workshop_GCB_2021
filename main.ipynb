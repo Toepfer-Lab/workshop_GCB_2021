{
 "cells": [
  {
   "cell_type": "markdown",
   "id": "f184c1ca",
   "metadata": {
    "slideshow": {
     "slide_type": "slide"
    }
   },
   "source": [
    "# Welcome\n",
    "\n",
    "Stefano Camborda La Cruz\n",
    "  \n",
    "  \n",
    "*Metabolic System Interactions*"
   ]
  },
  {
   "cell_type": "markdown",
   "id": "b7f4324a",
   "metadata": {
    "slideshow": {
     "slide_type": "subslide"
    }
   },
   "source": [
    "GOAL: Use a generic plant metabolic model to create a C4 leaf model\n",
    "\n",
    "Basic concepts and ideas:\n",
    "- Extending a large-scale metabolic model\n",
    "- Reproducibility and robustness\n",
    "- Implementation using COBRApy and CobraMod\n",
    "\n",
    "*duration: approx. 1h*"
   ]
  },
  {
   "cell_type": "markdown",
   "id": "6f848201",
   "metadata": {
    "slideshow": {
     "slide_type": "slide"
    }
   },
   "source": [
    "### C4 photosynthesis in a nutshell\n",
    "\n",
    "NADINE: could explain briefly here\n",
    "\n",
    "| <img src=\"https://miro.medium.com/max/2400/0*BhzQZYPEV8cGj5mZ.png\" alt=\"drawing\" width=\"680\"/> | <img src=\"https://miro.medium.com/proxy/1*duJX24NyLJ5osWdBHU8Kxg.png\" alt=\"drawing\" width=\"680\"/> |\n",
    "|------------------------------------------------------------------------------------------------|---------------------------------------------------------------------------------------------------|"
   ]
  },
  {
   "cell_type": "markdown",
   "id": "91c03512",
   "metadata": {
    "slideshow": {
     "slide_type": "slide"
    }
   },
   "source": [
    "## Creating the C4 leaf model\n",
    "\n",
    "Load basic Python modules"
   ]
  },
  {
   "cell_type": "code",
   "execution_count": 1,
   "id": "ea3a0713",
   "metadata": {
    "slideshow": {
     "slide_type": "fragment"
    }
   },
   "outputs": [
    {
     "name": "stdout",
     "output_type": "stream",
     "text": [
      "Scaling...\n",
      " A: min|aij| =  1.000e+00  max|aij| =  1.000e+00  ratio =  1.000e+00\n",
      "Problem data seem to be well scaled\n"
     ]
    },
    {
     "name": "stderr",
     "output_type": "stream",
     "text": [
      "/home/stefano/miniconda3/envs/test/lib/python3.9/site-packages/cobramod/parsing/biocyc.py:66: UserWarning: Biocyc version is not the same in CobraMod. Please inform maintainers.\n",
      "  warn(\n"
     ]
    }
   ],
   "source": [
    "from pathlib import Path\n",
    "\n",
    "from cobra.io import read_sbml_model\n",
    "from cobra import Solution, Model\n",
    "\n",
    "from cobramod import add_reactions"
   ]
  },
  {
   "cell_type": "markdown",
   "id": "9113bf7f",
   "metadata": {
    "slideshow": {
     "slide_type": "slide"
    }
   },
   "source": [
    "### Preparation\n",
    "\n",
    "Loading the model and defining directories"
   ]
  },
  {
   "cell_type": "code",
   "execution_count": 2,
   "id": "e542ad0b",
   "metadata": {
    "slideshow": {
     "slide_type": "fragment"
    }
   },
   "outputs": [],
   "source": [
    "# Load main model\n",
    "backup = read_sbml_model(\n",
    "    str(Path.cwd().joinpath(\"model\", \"PlantCoreMetabolism_v2_0_0.sbml\"))\n",
    ")\n",
    "dir_data = Path.cwd().joinpath(\"data\")\n",
    "\n",
    "model = backup.copy()\n",
    "\n",
    "assert backup\n",
    "assert dir_data.exists()"
   ]
  },
  {
   "cell_type": "code",
   "execution_count": 3,
   "id": "83ae55cb",
   "metadata": {
    "slideshow": {
     "slide_type": "skip"
    }
   },
   "outputs": [],
   "source": [
    "# Skipped\n",
    "# Fix compartment metabolites\n",
    "for metabolite in [\n",
    "    \"FERULIC_ACID_p\", \"VANILLIN_p\", \"FERULOYL_COA_p\"\n",
    "]:\n",
    "    model.metabolites.get_by_id(metabolite).compartment = \"p\"\n",
    "    assert model.metabolites.get_by_id(metabolite).compartment == \"p\""
   ]
  },
  {
   "cell_type": "markdown",
   "id": "22f92207",
   "metadata": {
    "slideshow": {
     "slide_type": "slide"
    }
   },
   "source": [
    "### General uptake constraints\n",
    "\n",
    "Using the attribute `Reaction.bounds`"
   ]
  },
  {
   "cell_type": "code",
   "execution_count": 4,
   "id": "7637a13a",
   "metadata": {
    "slideshow": {
     "slide_type": "fragment"
    }
   },
   "outputs": [
    {
     "name": "stdout",
     "output_type": "stream",
     "text": [
      "Ca_tx  <=> CAII_e\n",
      "Photon_tx  <=> Photon_e\n",
      "H_tx PROTON_e --> \n",
      "Sucrose_tx  <=> SUCROSE_e\n",
      "H2O_tx  <=> WATER_e\n",
      "CO2_tx  <=> CARBON_DIOXIDE_e\n",
      "O2_tx  <=> OXYGEN_MOLECULE_e\n",
      "Pi_tx  <=> Pi_e\n",
      "Mg_tx  <=> MGII_e\n",
      "Nitrate_tx  <=> NITRATE_e\n",
      "SO4_tx  <=> SULFATE_e\n",
      "NH4_tx  <=> AMMONIUM_e\n",
      "K_tx  <=> KI_e\n",
      "GLC_tx  <=> GLC_e\n"
     ]
    }
   ],
   "source": [
    "for reaction in model.exchanges:\n",
    "    print(reaction.id, reaction.reaction)"
   ]
  },
  {
   "cell_type": "code",
   "execution_count": 5,
   "id": "7b1d8ac6",
   "metadata": {
    "slideshow": {
     "slide_type": "skip"
    }
   },
   "outputs": [],
   "source": [
    "# Skipped\n",
    "# ATP bounds\n",
    "model.reactions.get_by_id(\"ATPase_tx\").bounds = (0, 1000)\n",
    "\n",
    "# NTT is only active at night\n",
    "model.reactions.get_by_id(\"ATP_ADP_Pi_pc\").bounds = (0, 0)"
   ]
  },
  {
   "cell_type": "code",
   "execution_count": 6,
   "id": "67ecb4fd",
   "metadata": {
    "slideshow": {
     "slide_type": "subslide"
    }
   },
   "outputs": [],
   "source": [
    "# Defining autotrophic conditions\n",
    "model.reactions.get_by_id(\"CO2_tx\").bounds = (-1000, 1000)\n",
    "model.reactions.get_by_id(\"H2O_tx\").bounds = (-1000, 1000)\n",
    "model.reactions.get_by_id(\"NH4_tx\").bounds = (0, 0)\n",
    "model.reactions.get_by_id(\"Pi_tx\").bounds = (0, 1000)\n",
    "model.reactions.get_by_id(\"SO4_tx\").bounds = (0, 1000)\n",
    "model.reactions.get_by_id(\"O2_tx\").bounds = (-1000, 1000)\n",
    "\n",
    "# Exported but not imported\n",
    "model.reactions.get_by_id(\"Sucrose_tx\").bounds = (-1000, 0)\n",
    "model.reactions.get_by_id(\"GLC_tx\").bounds = (-1000, 0)"
   ]
  },
  {
   "cell_type": "markdown",
   "id": "1a7834a9",
   "metadata": {
    "slideshow": {
     "slide_type": "slide"
    }
   },
   "source": [
    "### Creating and adding new reactions\n",
    "\n",
    "Using `cobramod` to extend the model"
   ]
  },
  {
   "cell_type": "code",
   "execution_count": 7,
   "id": "4e987b77",
   "metadata": {
    "scrolled": true,
    "slideshow": {
     "slide_type": "fragment"
    }
   },
   "outputs": [],
   "source": [
    "# Malate/Pyruvate transporter\n",
    "add_reactions(\n",
    "    model=model,\n",
    "    obj=\"PYR_MAL_pc, Pyruvate/Malate transporter | \"\n",
    "    + \"PYRUVATE_p + MAL_c <-> PYRUVATE_c + MAL_p\",\n",
    "    directory=dir_data,\n",
    ")\n",
    "\n",
    "assert model.reactions.get_by_id(\"PYR_MAL_pc\")"
   ]
  },
  {
   "cell_type": "markdown",
   "id": "94e20db3",
   "metadata": {
    "slideshow": {
     "slide_type": "slide"
    }
   },
   "source": [
    "### Creating mesophyll and bundle sheath cells\n",
    "\n",
    "We use copies of our model and add prefixes to them"
   ]
  },
  {
   "cell_type": "code",
   "execution_count": 8,
   "id": "810b70a6",
   "metadata": {
    "slideshow": {
     "slide_type": "fragment"
    }
   },
   "outputs": [],
   "source": [
    "c3_model = model.copy()\n",
    "c4_leaf = model.copy()\n",
    "c4_bundle = model.copy()"
   ]
  },
  {
   "cell_type": "code",
   "execution_count": 9,
   "id": "4b6f59ad",
   "metadata": {
    "slideshow": {
     "slide_type": "subslide"
    }
   },
   "outputs": [],
   "source": [
    "# For the mesophyll cell\n",
    "for dictlist in [\n",
    "    c4_leaf.reactions,\n",
    "    c4_leaf.metabolites,\n",
    "]:\n",
    "    for item in dictlist:\n",
    "        item.id = f\"M_{item.id}\"\n",
    "\n",
    "# For the bundle sheath cell\n",
    "for dictlist in [\n",
    "    c4_bundle.reactions,\n",
    "    c4_bundle.metabolites,\n",
    "]:\n",
    "    for item in dictlist:\n",
    "        item.id = f\"B_{item.id}\"\n",
    "\n",
    "c4_model = c4_leaf.merge(right=c4_bundle)"
   ]
  },
  {
   "cell_type": "code",
   "execution_count": 10,
   "id": "2b74c846",
   "metadata": {
    "slideshow": {
     "slide_type": "slide"
    }
   },
   "outputs": [
    {
     "data": {
      "text/html": [
       "\n",
       "        <table>\n",
       "            <tr>\n",
       "                <td><strong>Name</strong></td>\n",
       "                <td>PlantCoreMetabolism_v1_3_0</td>\n",
       "            </tr><tr>\n",
       "                <td><strong>Memory address</strong></td>\n",
       "                <td>0x07fe8a68fa5e0</td>\n",
       "            </tr><tr>\n",
       "                <td><strong>Number of metabolites</strong></td>\n",
       "                <td>861</td>\n",
       "            </tr><tr>\n",
       "                <td><strong>Number of reactions</strong></td>\n",
       "                <td>893</td>\n",
       "            </tr><tr>\n",
       "                <td><strong>Number of groups</strong></td>\n",
       "                <td>208</td>\n",
       "            </tr><tr>\n",
       "                <td><strong>Objective expression</strong></td>\n",
       "                <td>1.0*B_Phloem_output_tx - 1.0*B_Phloem_output_tx_reverse_ef7a0</td>\n",
       "            </tr><tr>\n",
       "                <td><strong>Compartments</strong></td>\n",
       "                <td>Mitochondrion, Cytoplasm, Biomass, Plastid, Vacuole, Peroxisome, Endoplasmic reticulum, Mitochondrion innermembrane interacting with cristal space, Mitochondrion innermembrane interacting with inter membrane space, Extracellular, Thylakoid, Mitochondrial intermembrane space</td>\n",
       "            </tr>\n",
       "          </table>"
      ],
      "text/plain": [
       "<Model PlantCoreMetabolism_v1_3_0 at 0x7fe8a68fa5e0>"
      ]
     },
     "execution_count": 10,
     "metadata": {},
     "output_type": "execute_result"
    }
   ],
   "source": [
    "c4_bundle"
   ]
  },
  {
   "cell_type": "code",
   "execution_count": 11,
   "id": "84a1b875",
   "metadata": {
    "scrolled": false,
    "slideshow": {
     "slide_type": "fragment"
    }
   },
   "outputs": [
    {
     "data": {
      "text/html": [
       "\n",
       "        <table>\n",
       "            <tr>\n",
       "                <td><strong>Name</strong></td>\n",
       "                <td>PlantCoreMetabolism_v1_3_0</td>\n",
       "            </tr><tr>\n",
       "                <td><strong>Memory address</strong></td>\n",
       "                <td>0x07fe8a68c1d90</td>\n",
       "            </tr><tr>\n",
       "                <td><strong>Number of metabolites</strong></td>\n",
       "                <td>1629</td>\n",
       "            </tr><tr>\n",
       "                <td><strong>Number of reactions</strong></td>\n",
       "                <td>1786</td>\n",
       "            </tr><tr>\n",
       "                <td><strong>Number of groups</strong></td>\n",
       "                <td>208</td>\n",
       "            </tr><tr>\n",
       "                <td><strong>Objective expression</strong></td>\n",
       "                <td>1.0*M_Phloem_output_tx - 1.0*M_Phloem_output_tx_reverse_d57a8</td>\n",
       "            </tr><tr>\n",
       "                <td><strong>Compartments</strong></td>\n",
       "                <td>Mitochondrion, Cytoplasm, Biomass, Plastid, Vacuole, Peroxisome, Endoplasmic reticulum, Mitochondrion innermembrane interacting with cristal space, Mitochondrion innermembrane interacting with inter membrane space, Extracellular, Thylakoid, Mitochondrial intermembrane space</td>\n",
       "            </tr>\n",
       "          </table>"
      ],
      "text/plain": [
       "<Model PlantCoreMetabolism_v1_3_0 at 0x7fe8a68c1d90>"
      ]
     },
     "execution_count": 11,
     "metadata": {},
     "output_type": "execute_result"
    }
   ],
   "source": [
    "c4_model"
   ]
  },
  {
   "cell_type": "markdown",
   "id": "a6b6f8ba",
   "metadata": {
    "slideshow": {
     "slide_type": "slide"
    }
   },
   "source": [
    "### Testing the new reactions\n",
    "\n",
    "- Using the `assert` statement\n",
    "- Confirm existence of reaction in cells"
   ]
  },
  {
   "cell_type": "code",
   "execution_count": 12,
   "id": "0b5df6bc",
   "metadata": {
    "slideshow": {
     "slide_type": "fragment"
    }
   },
   "outputs": [],
   "source": [
    "assert c4_model.reactions.get_by_id(\"M_CO2_tx\")\n",
    "assert c4_model.reactions.get_by_id(\"B_CO2_tx\")\n",
    "assert c4_model.reactions.get_by_id(\"M_ATPase_tx\")\n",
    "assert c4_model.reactions.get_by_id(\"B_ATPase_tx\")"
   ]
  },
  {
   "cell_type": "code",
   "execution_count": 13,
   "id": "84f630f5",
   "metadata": {
    "slideshow": {
     "slide_type": "skip"
    }
   },
   "outputs": [],
   "source": [
    "# Skipped\n",
    "with open(file=Path.cwd().joinpath(\"model\", \"metabolites.txt\")) as f:\n",
    "    no_transport = [line[:-1].replace('\"', \"\") for line in f.readlines()]"
   ]
  },
  {
   "cell_type": "code",
   "execution_count": 14,
   "id": "cc101ca0",
   "metadata": {
    "slideshow": {
     "slide_type": "skip"
    }
   },
   "outputs": [],
   "source": [
    "# Skipped\n",
    "metabolites = []\n",
    "for metabolite in c4_model.metabolites:\n",
    "    if not metabolite.reactions:\n",
    "        continue\n",
    "    identifier = metabolite.id[2:]\n",
    "\n",
    "    if identifier[: identifier.rfind(\"_\")] in no_transport:\n",
    "        continue\n",
    "    elif f\"MB_{identifier}\" in [\n",
    "        reaction.id for reaction in c4_model.reactions\n",
    "    ]:\n",
    "        continue\n",
    "    elif \"mc\" not in metabolite.compartment and \"c\" in metabolite.compartment:\n",
    "        metabolites.append(identifier)"
   ]
  },
  {
   "cell_type": "markdown",
   "id": "79471df9",
   "metadata": {
    "slideshow": {
     "slide_type": "slide"
    }
   },
   "source": [
    "### Adding transport reactions between the mesophyll and bundle sheath cells\n",
    "\n",
    "- Filtering of metabolites (not shown) (unclear to me)\n",
    "- Creating reactions\n",
    "- Testing"
   ]
  },
  {
   "cell_type": "code",
   "execution_count": 15,
   "id": "d2380961",
   "metadata": {
    "slideshow": {
     "slide_type": "fragment"
    }
   },
   "outputs": [
    {
     "name": "stderr",
     "output_type": "stream",
     "text": [
      "/home/stefano/miniconda3/envs/test/lib/python3.9/site-packages/cobramod/core/creation.py:1129: UserWarning: Reaction \"MB_PRO_c\" is already present in the model. Skipping addition.\n",
      "  warn(message=msg, category=UserWarning)\n",
      "/home/stefano/miniconda3/envs/test/lib/python3.9/site-packages/cobramod/core/creation.py:1129: UserWarning: Reaction \"MB_CIT_c\" is already present in the model. Skipping addition.\n",
      "  warn(message=msg, category=UserWarning)\n",
      "/home/stefano/miniconda3/envs/test/lib/python3.9/site-packages/cobramod/core/creation.py:1129: UserWarning: Reaction \"MB_2_KETOGLUTARATE_c\" is already present in the model. Skipping addition.\n",
      "  warn(message=msg, category=UserWarning)\n",
      "/home/stefano/miniconda3/envs/test/lib/python3.9/site-packages/cobramod/core/creation.py:1129: UserWarning: Reaction \"MB_LEU_c\" is already present in the model. Skipping addition.\n",
      "  warn(message=msg, category=UserWarning)\n",
      "/home/stefano/miniconda3/envs/test/lib/python3.9/site-packages/cobramod/core/creation.py:1129: UserWarning: Reaction \"MB_LEU_tRNAs_c\" is already present in the model. Skipping addition.\n",
      "  warn(message=msg, category=UserWarning)\n",
      "/home/stefano/miniconda3/envs/test/lib/python3.9/site-packages/cobramod/core/creation.py:1129: UserWarning: Reaction \"MB_Charged_LEU_tRNAs_c\" is already present in the model. Skipping addition.\n",
      "  warn(message=msg, category=UserWarning)\n",
      "/home/stefano/miniconda3/envs/test/lib/python3.9/site-packages/cobramod/core/creation.py:1129: UserWarning: Reaction \"MB_ASP_tRNAs_c\" is already present in the model. Skipping addition.\n",
      "  warn(message=msg, category=UserWarning)\n",
      "/home/stefano/miniconda3/envs/test/lib/python3.9/site-packages/cobramod/core/creation.py:1129: UserWarning: Reaction \"MB_L_ASPARTATE_c\" is already present in the model. Skipping addition.\n",
      "  warn(message=msg, category=UserWarning)\n",
      "/home/stefano/miniconda3/envs/test/lib/python3.9/site-packages/cobramod/core/creation.py:1129: UserWarning: Reaction \"MB_Charged_ASP_tRNAs_c\" is already present in the model. Skipping addition.\n",
      "  warn(message=msg, category=UserWarning)\n",
      "/home/stefano/miniconda3/envs/test/lib/python3.9/site-packages/cobramod/core/creation.py:1129: UserWarning: Reaction \"MB_DIHYDROXY_ACETONE_PHOSPHATE_c\" is already present in the model. Skipping addition.\n",
      "  warn(message=msg, category=UserWarning)\n",
      "/home/stefano/miniconda3/envs/test/lib/python3.9/site-packages/cobramod/core/creation.py:1129: UserWarning: Reaction \"MB_GAP_c\" is already present in the model. Skipping addition.\n",
      "  warn(message=msg, category=UserWarning)\n",
      "/home/stefano/miniconda3/envs/test/lib/python3.9/site-packages/cobramod/core/creation.py:1129: UserWarning: Reaction \"MB_CPD_406_c\" is already present in the model. Skipping addition.\n",
      "  warn(message=msg, category=UserWarning)\n",
      "/home/stefano/miniconda3/envs/test/lib/python3.9/site-packages/cobramod/core/creation.py:1129: UserWarning: Reaction \"MB_CPD_5441_c\" is already present in the model. Skipping addition.\n",
      "  warn(message=msg, category=UserWarning)\n",
      "/home/stefano/miniconda3/envs/test/lib/python3.9/site-packages/cobramod/core/creation.py:1129: UserWarning: Reaction \"MB_SER_c\" is already present in the model. Skipping addition.\n",
      "  warn(message=msg, category=UserWarning)\n",
      "/home/stefano/miniconda3/envs/test/lib/python3.9/site-packages/cobramod/core/creation.py:1129: UserWarning: Reaction \"MB_PYRUVATE_c\" is already present in the model. Skipping addition.\n",
      "  warn(message=msg, category=UserWarning)\n",
      "/home/stefano/miniconda3/envs/test/lib/python3.9/site-packages/cobramod/core/creation.py:1129: UserWarning: Reaction \"MB_L_ALPHA_ALANINE_c\" is already present in the model. Skipping addition.\n",
      "  warn(message=msg, category=UserWarning)\n",
      "/home/stefano/miniconda3/envs/test/lib/python3.9/site-packages/cobramod/core/creation.py:1129: UserWarning: Reaction \"MB_THR_tRNAs_c\" is already present in the model. Skipping addition.\n",
      "  warn(message=msg, category=UserWarning)\n",
      "/home/stefano/miniconda3/envs/test/lib/python3.9/site-packages/cobramod/core/creation.py:1129: UserWarning: Reaction \"MB_Protein_tranlocation_cost_c\" is already present in the model. Skipping addition.\n",
      "  warn(message=msg, category=UserWarning)\n",
      "/home/stefano/miniconda3/envs/test/lib/python3.9/site-packages/cobramod/core/creation.py:1129: UserWarning: Reaction \"MB_Protein_processing_cost_c\" is already present in the model. Skipping addition.\n",
      "  warn(message=msg, category=UserWarning)\n",
      "/home/stefano/miniconda3/envs/test/lib/python3.9/site-packages/cobramod/core/creation.py:1129: UserWarning: Reaction \"MB_Charged_THR_tRNAs_c\" is already present in the model. Skipping addition.\n",
      "  warn(message=msg, category=UserWarning)\n",
      "/home/stefano/miniconda3/envs/test/lib/python3.9/site-packages/cobramod/core/creation.py:1129: UserWarning: Reaction \"MB_Protein_polymerisation_cost_c\" is already present in the model. Skipping addition.\n",
      "  warn(message=msg, category=UserWarning)\n",
      "/home/stefano/miniconda3/envs/test/lib/python3.9/site-packages/cobramod/core/creation.py:1129: UserWarning: Reaction \"MB_MAL_c\" is already present in the model. Skipping addition.\n",
      "  warn(message=msg, category=UserWarning)\n",
      "/home/stefano/miniconda3/envs/test/lib/python3.9/site-packages/cobramod/core/creation.py:1129: UserWarning: Reaction \"MB_ASN_c\" is already present in the model. Skipping addition.\n",
      "  warn(message=msg, category=UserWarning)\n",
      "/home/stefano/miniconda3/envs/test/lib/python3.9/site-packages/cobramod/core/creation.py:1129: UserWarning: Reaction \"MB_HS_c\" is already present in the model. Skipping addition.\n",
      "  warn(message=msg, category=UserWarning)\n",
      "/home/stefano/miniconda3/envs/test/lib/python3.9/site-packages/cobramod/core/creation.py:1129: UserWarning: Reaction \"MB_FUM_c\" is already present in the model. Skipping addition.\n",
      "  warn(message=msg, category=UserWarning)\n",
      "/home/stefano/miniconda3/envs/test/lib/python3.9/site-packages/cobramod/core/creation.py:1129: UserWarning: Reaction \"MB_GLN_c\" is already present in the model. Skipping addition.\n",
      "  warn(message=msg, category=UserWarning)\n",
      "/home/stefano/miniconda3/envs/test/lib/python3.9/site-packages/cobramod/core/creation.py:1129: UserWarning: Reaction \"MB_GLN_tRNAs_c\" is already present in the model. Skipping addition.\n",
      "  warn(message=msg, category=UserWarning)\n",
      "/home/stefano/miniconda3/envs/test/lib/python3.9/site-packages/cobramod/core/creation.py:1129: UserWarning: Reaction \"MB_Charged_GLN_tRNAs_c\" is already present in the model. Skipping addition.\n",
      "  warn(message=msg, category=UserWarning)\n",
      "/home/stefano/miniconda3/envs/test/lib/python3.9/site-packages/cobramod/core/creation.py:1129: UserWarning: Reaction \"MB_1_L_MYO_INOSITOL_1_P_c\" is already present in the model. Skipping addition.\n",
      "  warn(message=msg, category=UserWarning)\n",
      "/home/stefano/miniconda3/envs/test/lib/python3.9/site-packages/cobramod/core/creation.py:1129: UserWarning: Reaction \"MB_MYO_INOSITOL_c\" is already present in the model. Skipping addition.\n",
      "  warn(message=msg, category=UserWarning)\n",
      "/home/stefano/miniconda3/envs/test/lib/python3.9/site-packages/cobramod/core/creation.py:1129: UserWarning: Reaction \"MB_L_CITRULLINE_c\" is already present in the model. Skipping addition.\n",
      "  warn(message=msg, category=UserWarning)\n",
      "/home/stefano/miniconda3/envs/test/lib/python3.9/site-packages/cobramod/core/creation.py:1129: UserWarning: Reaction \"MB_L_ORNITHINE_c\" is already present in the model. Skipping addition.\n",
      "  warn(message=msg, category=UserWarning)\n",
      "/home/stefano/miniconda3/envs/test/lib/python3.9/site-packages/cobramod/core/creation.py:1129: UserWarning: Reaction \"MB_GLT_c\" is already present in the model. Skipping addition.\n",
      "  warn(message=msg, category=UserWarning)\n",
      "/home/stefano/miniconda3/envs/test/lib/python3.9/site-packages/cobramod/core/creation.py:1129: UserWarning: Reaction \"MB_GLT_tRNAs_c\" is already present in the model. Skipping addition.\n",
      "  warn(message=msg, category=UserWarning)\n",
      "/home/stefano/miniconda3/envs/test/lib/python3.9/site-packages/cobramod/core/creation.py:1129: UserWarning: Reaction \"MB_Charged_GLT_tRNAs_c\" is already present in the model. Skipping addition.\n",
      "  warn(message=msg, category=UserWarning)\n",
      "/home/stefano/miniconda3/envs/test/lib/python3.9/site-packages/cobramod/core/creation.py:1129: UserWarning: Reaction \"MB_UREA_c\" is already present in the model. Skipping addition.\n",
      "  warn(message=msg, category=UserWarning)\n",
      "/home/stefano/miniconda3/envs/test/lib/python3.9/site-packages/cobramod/core/creation.py:1129: UserWarning: Reaction \"MB_ISOBUTYRYL_COA_c\" is already present in the model. Skipping addition.\n",
      "  warn(message=msg, category=UserWarning)\n",
      "/home/stefano/miniconda3/envs/test/lib/python3.9/site-packages/cobramod/core/creation.py:1129: UserWarning: Reaction \"MB_2K_ADIPATE_c\" is already present in the model. Skipping addition.\n",
      "  warn(message=msg, category=UserWarning)\n",
      "/home/stefano/miniconda3/envs/test/lib/python3.9/site-packages/cobramod/core/creation.py:1129: UserWarning: Reaction \"MB_GLY_c\" is already present in the model. Skipping addition.\n",
      "  warn(message=msg, category=UserWarning)\n",
      "/home/stefano/miniconda3/envs/test/lib/python3.9/site-packages/cobramod/core/creation.py:1129: UserWarning: Reaction \"MB_FRUCTOSE_6P_c\" is already present in the model. Skipping addition.\n",
      "  warn(message=msg, category=UserWarning)\n",
      "/home/stefano/miniconda3/envs/test/lib/python3.9/site-packages/cobramod/core/creation.py:1129: UserWarning: Reaction \"MB_MANNOSE_6P_c\" is already present in the model. Skipping addition.\n",
      "  warn(message=msg, category=UserWarning)\n",
      "/home/stefano/miniconda3/envs/test/lib/python3.9/site-packages/cobramod/core/creation.py:1129: UserWarning: Reaction \"MB_CYS_c\" is already present in the model. Skipping addition.\n",
      "  warn(message=msg, category=UserWarning)\n",
      "/home/stefano/miniconda3/envs/test/lib/python3.9/site-packages/cobramod/core/creation.py:1129: UserWarning: Reaction \"MB_4_AMINO_BUTYRATE_c\" is already present in the model. Skipping addition.\n",
      "  warn(message=msg, category=UserWarning)\n",
      "/home/stefano/miniconda3/envs/test/lib/python3.9/site-packages/cobramod/core/creation.py:1129: UserWarning: Reaction \"MB_CIS_ACONITATE_c\" is already present in the model. Skipping addition.\n",
      "  warn(message=msg, category=UserWarning)\n",
      "/home/stefano/miniconda3/envs/test/lib/python3.9/site-packages/cobramod/core/creation.py:1129: UserWarning: Reaction \"MB_THREO_DS_ISO_CITRATE_c\" is already present in the model. Skipping addition.\n",
      "  warn(message=msg, category=UserWarning)\n",
      "/home/stefano/miniconda3/envs/test/lib/python3.9/site-packages/cobramod/core/creation.py:1129: UserWarning: Reaction \"MB_THR_c\" is already present in the model. Skipping addition.\n",
      "  warn(message=msg, category=UserWarning)\n",
      "/home/stefano/miniconda3/envs/test/lib/python3.9/site-packages/cobramod/core/creation.py:1129: UserWarning: Reaction \"MB_LYS_c\" is already present in the model. Skipping addition.\n",
      "  warn(message=msg, category=UserWarning)\n",
      "/home/stefano/miniconda3/envs/test/lib/python3.9/site-packages/cobramod/core/creation.py:1129: UserWarning: Reaction \"MB_SACCHAROPINE_c\" is already present in the model. Skipping addition.\n",
      "  warn(message=msg, category=UserWarning)\n",
      "/home/stefano/miniconda3/envs/test/lib/python3.9/site-packages/cobramod/core/creation.py:1129: UserWarning: Reaction \"MB_P_HYDROXY_PHENYLPYRUVATE_c\" is already present in the model. Skipping addition.\n",
      "  warn(message=msg, category=UserWarning)\n",
      "/home/stefano/miniconda3/envs/test/lib/python3.9/site-packages/cobramod/core/creation.py:1129: UserWarning: Reaction \"MB_HOMOGENTISATE_c\" is already present in the model. Skipping addition.\n",
      "  warn(message=msg, category=UserWarning)\n",
      "/home/stefano/miniconda3/envs/test/lib/python3.9/site-packages/cobramod/core/creation.py:1129: UserWarning: Reaction \"MB_MANNITOL_1P_c\" is already present in the model. Skipping addition.\n",
      "  warn(message=msg, category=UserWarning)\n",
      "/home/stefano/miniconda3/envs/test/lib/python3.9/site-packages/cobramod/core/creation.py:1129: UserWarning: Reaction \"MB_FeII_c\" is already present in the model. Skipping addition.\n",
      "  warn(message=msg, category=UserWarning)\n",
      "/home/stefano/miniconda3/envs/test/lib/python3.9/site-packages/cobramod/core/creation.py:1129: UserWarning: Reaction \"MB_FeIII_c\" is already present in the model. Skipping addition.\n",
      "  warn(message=msg, category=UserWarning)\n",
      "/home/stefano/miniconda3/envs/test/lib/python3.9/site-packages/cobramod/core/creation.py:1129: UserWarning: Reaction \"MB_SUPER_OXIDE_c\" is already present in the model. Skipping addition.\n",
      "  warn(message=msg, category=UserWarning)\n",
      "/home/stefano/miniconda3/envs/test/lib/python3.9/site-packages/cobramod/core/creation.py:1129: UserWarning: Reaction \"MB_GLC_c\" is already present in the model. Skipping addition.\n",
      "  warn(message=msg, category=UserWarning)\n",
      "/home/stefano/miniconda3/envs/test/lib/python3.9/site-packages/cobramod/core/creation.py:1129: UserWarning: Reaction \"MB_Heteroglycans_c\" is already present in the model. Skipping addition.\n",
      "  warn(message=msg, category=UserWarning)\n",
      "/home/stefano/miniconda3/envs/test/lib/python3.9/site-packages/cobramod/core/creation.py:1129: UserWarning: Reaction \"MB_G3P_c\" is already present in the model. Skipping addition.\n",
      "  warn(message=msg, category=UserWarning)\n",
      "/home/stefano/miniconda3/envs/test/lib/python3.9/site-packages/cobramod/core/creation.py:1129: UserWarning: Reaction \"MB_TRP_c\" is already present in the model. Skipping addition.\n",
      "  warn(message=msg, category=UserWarning)\n",
      "/home/stefano/miniconda3/envs/test/lib/python3.9/site-packages/cobramod/core/creation.py:1129: UserWarning: Reaction \"MB_TRP_tRNAs_c\" is already present in the model. Skipping addition.\n",
      "  warn(message=msg, category=UserWarning)\n",
      "/home/stefano/miniconda3/envs/test/lib/python3.9/site-packages/cobramod/core/creation.py:1129: UserWarning: Reaction \"MB_Charged_TRP_tRNAs_c\" is already present in the model. Skipping addition.\n",
      "  warn(message=msg, category=UserWarning)\n",
      "/home/stefano/miniconda3/envs/test/lib/python3.9/site-packages/cobramod/core/creation.py:1129: UserWarning: Reaction \"MB_ILE_tRNAs_c\" is already present in the model. Skipping addition.\n",
      "  warn(message=msg, category=UserWarning)\n",
      "/home/stefano/miniconda3/envs/test/lib/python3.9/site-packages/cobramod/core/creation.py:1129: UserWarning: Reaction \"MB_Charged_ILE_tRNAs_c\" is already present in the model. Skipping addition.\n",
      "  warn(message=msg, category=UserWarning)\n",
      "/home/stefano/miniconda3/envs/test/lib/python3.9/site-packages/cobramod/core/creation.py:1129: UserWarning: Reaction \"MB_SER_tRNAs_c\" is already present in the model. Skipping addition.\n",
      "  warn(message=msg, category=UserWarning)\n",
      "/home/stefano/miniconda3/envs/test/lib/python3.9/site-packages/cobramod/core/creation.py:1129: UserWarning: Reaction \"MB_Charged_SER_tRNAs_c\" is already present in the model. Skipping addition.\n",
      "  warn(message=msg, category=UserWarning)\n",
      "/home/stefano/miniconda3/envs/test/lib/python3.9/site-packages/cobramod/core/creation.py:1129: UserWarning: Reaction \"MB_TYR_c\" is already present in the model. Skipping addition.\n",
      "  warn(message=msg, category=UserWarning)\n",
      "/home/stefano/miniconda3/envs/test/lib/python3.9/site-packages/cobramod/core/creation.py:1129: UserWarning: Reaction \"MB_SUCROSE_c\" is already present in the model. Skipping addition.\n",
      "  warn(message=msg, category=UserWarning)\n",
      "/home/stefano/miniconda3/envs/test/lib/python3.9/site-packages/cobramod/core/creation.py:1129: UserWarning: Reaction \"MB_GLYCOLLATE_c\" is already present in the model. Skipping addition.\n",
      "  warn(message=msg, category=UserWarning)\n",
      "/home/stefano/miniconda3/envs/test/lib/python3.9/site-packages/cobramod/core/creation.py:1129: UserWarning: Reaction \"MB_MET_c\" is already present in the model. Skipping addition.\n",
      "  warn(message=msg, category=UserWarning)\n",
      "/home/stefano/miniconda3/envs/test/lib/python3.9/site-packages/cobramod/core/creation.py:1129: UserWarning: Reaction \"MB_RIBULOSE_5P_c\" is already present in the model. Skipping addition.\n",
      "  warn(message=msg, category=UserWarning)\n",
      "/home/stefano/miniconda3/envs/test/lib/python3.9/site-packages/cobramod/core/creation.py:1129: UserWarning: Reaction \"MB_XYLULOSE_5_PHOSPHATE_c\" is already present in the model. Skipping addition.\n",
      "  warn(message=msg, category=UserWarning)\n",
      "/home/stefano/miniconda3/envs/test/lib/python3.9/site-packages/cobramod/core/creation.py:1129: UserWarning: Reaction \"MB_PHOSPHO_ENOL_PYRUVATE_c\" is already present in the model. Skipping addition.\n",
      "  warn(message=msg, category=UserWarning)\n",
      "/home/stefano/miniconda3/envs/test/lib/python3.9/site-packages/cobramod/core/creation.py:1129: UserWarning: Reaction \"MB_4_MALEYL_ACETOACETATE_c\" is already present in the model. Skipping addition.\n",
      "  warn(message=msg, category=UserWarning)\n",
      "/home/stefano/miniconda3/envs/test/lib/python3.9/site-packages/cobramod/core/creation.py:1129: UserWarning: Reaction \"MB_MANNOSE_1P_c\" is already present in the model. Skipping addition.\n",
      "  warn(message=msg, category=UserWarning)\n",
      "/home/stefano/miniconda3/envs/test/lib/python3.9/site-packages/cobramod/core/creation.py:1129: UserWarning: Reaction \"MB_GDP_MANNOSE_c\" is already present in the model. Skipping addition.\n",
      "  warn(message=msg, category=UserWarning)\n",
      "/home/stefano/miniconda3/envs/test/lib/python3.9/site-packages/cobramod/core/creation.py:1129: UserWarning: Reaction \"MB_SUC_c\" is already present in the model. Skipping addition.\n",
      "  warn(message=msg, category=UserWarning)\n",
      "/home/stefano/miniconda3/envs/test/lib/python3.9/site-packages/cobramod/core/creation.py:1129: UserWarning: Reaction \"MB_HIS_c\" is already present in the model. Skipping addition.\n",
      "  warn(message=msg, category=UserWarning)\n",
      "/home/stefano/miniconda3/envs/test/lib/python3.9/site-packages/cobramod/core/creation.py:1129: UserWarning: Reaction \"MB_HIS_tRNAs_c\" is already present in the model. Skipping addition.\n",
      "  warn(message=msg, category=UserWarning)\n",
      "/home/stefano/miniconda3/envs/test/lib/python3.9/site-packages/cobramod/core/creation.py:1129: UserWarning: Reaction \"MB_Charged_HIS_tRNAs_c\" is already present in the model. Skipping addition.\n",
      "  warn(message=msg, category=UserWarning)\n",
      "/home/stefano/miniconda3/envs/test/lib/python3.9/site-packages/cobramod/core/creation.py:1129: UserWarning: Reaction \"MB_VAL_c\" is already present in the model. Skipping addition.\n",
      "  warn(message=msg, category=UserWarning)\n",
      "/home/stefano/miniconda3/envs/test/lib/python3.9/site-packages/cobramod/core/creation.py:1129: UserWarning: Reaction \"MB_CONIFERYL_ALCOHOL_c\" is already present in the model. Skipping addition.\n",
      "  warn(message=msg, category=UserWarning)\n",
      "/home/stefano/miniconda3/envs/test/lib/python3.9/site-packages/cobramod/core/creation.py:1129: UserWarning: Reaction \"MB_CPD_1777_c\" is already present in the model. Skipping addition.\n",
      "  warn(message=msg, category=UserWarning)\n",
      "/home/stefano/miniconda3/envs/test/lib/python3.9/site-packages/cobramod/core/creation.py:1129: UserWarning: Reaction \"MB_PROPIONYL_COA_c\" is already present in the model. Skipping addition.\n",
      "  warn(message=msg, category=UserWarning)\n",
      "/home/stefano/miniconda3/envs/test/lib/python3.9/site-packages/cobramod/core/creation.py:1129: UserWarning: Reaction \"MB_FRU_c\" is already present in the model. Skipping addition.\n",
      "  warn(message=msg, category=UserWarning)\n",
      "/home/stefano/miniconda3/envs/test/lib/python3.9/site-packages/cobramod/core/creation.py:1129: UserWarning: Reaction \"MB_ETOH_c\" is already present in the model. Skipping addition.\n",
      "  warn(message=msg, category=UserWarning)\n",
      "/home/stefano/miniconda3/envs/test/lib/python3.9/site-packages/cobramod/core/creation.py:1129: UserWarning: Reaction \"MB_MET_tRNAs_c\" is already present in the model. Skipping addition.\n",
      "  warn(message=msg, category=UserWarning)\n",
      "/home/stefano/miniconda3/envs/test/lib/python3.9/site-packages/cobramod/core/creation.py:1129: UserWarning: Reaction \"MB_Charged_MET_tRNAs_c\" is already present in the model. Skipping addition.\n",
      "  warn(message=msg, category=UserWarning)\n",
      "/home/stefano/miniconda3/envs/test/lib/python3.9/site-packages/cobramod/core/creation.py:1129: UserWarning: Reaction \"MB_ALLYSINE_c\" is already present in the model. Skipping addition.\n",
      "  warn(message=msg, category=UserWarning)\n",
      "/home/stefano/miniconda3/envs/test/lib/python3.9/site-packages/cobramod/core/creation.py:1129: UserWarning: Reaction \"MB_CPD_468_c\" is already present in the model. Skipping addition.\n",
      "  warn(message=msg, category=UserWarning)\n",
      "/home/stefano/miniconda3/envs/test/lib/python3.9/site-packages/cobramod/core/creation.py:1129: UserWarning: Reaction \"MB_CAII_c\" is already present in the model. Skipping addition.\n",
      "  warn(message=msg, category=UserWarning)\n",
      "/home/stefano/miniconda3/envs/test/lib/python3.9/site-packages/cobramod/core/creation.py:1129: UserWarning: Reaction \"MB_CPD_14927_c\" is already present in the model. Skipping addition.\n",
      "  warn(message=msg, category=UserWarning)\n",
      "/home/stefano/miniconda3/envs/test/lib/python3.9/site-packages/cobramod/core/creation.py:1129: UserWarning: Reaction \"MB_3_HYDROXY_PROPIONATE_c\" is already present in the model. Skipping addition.\n",
      "  warn(message=msg, category=UserWarning)\n",
      "/home/stefano/miniconda3/envs/test/lib/python3.9/site-packages/cobramod/core/creation.py:1129: UserWarning: Reaction \"MB_LYS_tRNAs_c\" is already present in the model. Skipping addition.\n",
      "  warn(message=msg, category=UserWarning)\n",
      "/home/stefano/miniconda3/envs/test/lib/python3.9/site-packages/cobramod/core/creation.py:1129: UserWarning: Reaction \"MB_Charged_LYS_tRNAs_c\" is already present in the model. Skipping addition.\n",
      "  warn(message=msg, category=UserWarning)\n",
      "/home/stefano/miniconda3/envs/test/lib/python3.9/site-packages/cobramod/core/creation.py:1129: UserWarning: Reaction \"MB_D_6_P_GLUCONO_DELTA_LACTONE_c\" is already present in the model. Skipping addition.\n",
      "  warn(message=msg, category=UserWarning)\n",
      "/home/stefano/miniconda3/envs/test/lib/python3.9/site-packages/cobramod/core/creation.py:1129: UserWarning: Reaction \"MB_CPD_2961_c\" is already present in the model. Skipping addition.\n",
      "  warn(message=msg, category=UserWarning)\n",
      "/home/stefano/miniconda3/envs/test/lib/python3.9/site-packages/cobramod/core/creation.py:1129: UserWarning: Reaction \"MB_PHE_c\" is already present in the model. Skipping addition.\n",
      "  warn(message=msg, category=UserWarning)\n",
      "/home/stefano/miniconda3/envs/test/lib/python3.9/site-packages/cobramod/core/creation.py:1129: UserWarning: Reaction \"MB_GLUTACONYL_COA_c\" is already present in the model. Skipping addition.\n",
      "  warn(message=msg, category=UserWarning)\n",
      "/home/stefano/miniconda3/envs/test/lib/python3.9/site-packages/cobramod/core/creation.py:1129: UserWarning: Reaction \"MB_ARG_c\" is already present in the model. Skipping addition.\n",
      "  warn(message=msg, category=UserWarning)\n",
      "/home/stefano/miniconda3/envs/test/lib/python3.9/site-packages/cobramod/core/creation.py:1129: UserWarning: Reaction \"MB_PALMITATE_c\" is already present in the model. Skipping addition.\n",
      "  warn(message=msg, category=UserWarning)\n",
      "/home/stefano/miniconda3/envs/test/lib/python3.9/site-packages/cobramod/core/creation.py:1129: UserWarning: Reaction \"MB_2_PG_c\" is already present in the model. Skipping addition.\n",
      "  warn(message=msg, category=UserWarning)\n",
      "/home/stefano/miniconda3/envs/test/lib/python3.9/site-packages/cobramod/core/creation.py:1129: UserWarning: Reaction \"MB_GLC_1_P_c\" is already present in the model. Skipping addition.\n",
      "  warn(message=msg, category=UserWarning)\n",
      "/home/stefano/miniconda3/envs/test/lib/python3.9/site-packages/cobramod/core/creation.py:1129: UserWarning: Reaction \"MB_GLC_6_P_c\" is already present in the model. Skipping addition.\n",
      "  warn(message=msg, category=UserWarning)\n",
      "/home/stefano/miniconda3/envs/test/lib/python3.9/site-packages/cobramod/core/creation.py:1129: UserWarning: Reaction \"MB_CYS_tRNAs_c\" is already present in the model. Skipping addition.\n",
      "  warn(message=msg, category=UserWarning)\n",
      "/home/stefano/miniconda3/envs/test/lib/python3.9/site-packages/cobramod/core/creation.py:1129: UserWarning: Reaction \"MB_Charged_CYS_tRNAs_c\" is already present in the model. Skipping addition.\n",
      "  warn(message=msg, category=UserWarning)\n",
      "/home/stefano/miniconda3/envs/test/lib/python3.9/site-packages/cobramod/core/creation.py:1129: UserWarning: Reaction \"MB_PHOSPHORYL_CHOLINE_c\" is already present in the model. Skipping addition.\n",
      "  warn(message=msg, category=UserWarning)\n",
      "/home/stefano/miniconda3/envs/test/lib/python3.9/site-packages/cobramod/core/creation.py:1129: UserWarning: Reaction \"MB_GLYCERATE_c\" is already present in the model. Skipping addition.\n",
      "  warn(message=msg, category=UserWarning)\n",
      "/home/stefano/miniconda3/envs/test/lib/python3.9/site-packages/cobramod/core/creation.py:1129: UserWarning: Reaction \"MB_MGII_c\" is already present in the model. Skipping addition.\n",
      "  warn(message=msg, category=UserWarning)\n",
      "/home/stefano/miniconda3/envs/test/lib/python3.9/site-packages/cobramod/core/creation.py:1129: UserWarning: Reaction \"MB_MANNITOL_c\" is already present in the model. Skipping addition.\n",
      "  warn(message=msg, category=UserWarning)\n",
      "/home/stefano/miniconda3/envs/test/lib/python3.9/site-packages/cobramod/core/creation.py:1129: UserWarning: Reaction \"MB_MANNOSE_c\" is already present in the model. Skipping addition.\n",
      "  warn(message=msg, category=UserWarning)\n",
      "/home/stefano/miniconda3/envs/test/lib/python3.9/site-packages/cobramod/core/creation.py:1129: UserWarning: Reaction \"MB_ARG_tRNAs_c\" is already present in the model. Skipping addition.\n",
      "  warn(message=msg, category=UserWarning)\n",
      "/home/stefano/miniconda3/envs/test/lib/python3.9/site-packages/cobramod/core/creation.py:1129: UserWarning: Reaction \"MB_Charged_ARG_tRNAs_c\" is already present in the model. Skipping addition.\n",
      "  warn(message=msg, category=UserWarning)\n",
      "/home/stefano/miniconda3/envs/test/lib/python3.9/site-packages/cobramod/core/creation.py:1129: UserWarning: Reaction \"MB_PHOSPHORYL_ETHANOLAMINE_c\" is already present in the model. Skipping addition.\n",
      "  warn(message=msg, category=UserWarning)\n",
      "/home/stefano/miniconda3/envs/test/lib/python3.9/site-packages/cobramod/core/creation.py:1129: UserWarning: Reaction \"MB_GDP_D_GLUCOSE_c\" is already present in the model. Skipping addition.\n",
      "  warn(message=msg, category=UserWarning)\n",
      "/home/stefano/miniconda3/envs/test/lib/python3.9/site-packages/cobramod/core/creation.py:1129: UserWarning: Reaction \"MB_UDP_GLUCURONATE_c\" is already present in the model. Skipping addition.\n",
      "  warn(message=msg, category=UserWarning)\n",
      "/home/stefano/miniconda3/envs/test/lib/python3.9/site-packages/cobramod/core/creation.py:1129: UserWarning: Reaction \"MB_UDP_D_XYLOSE_c\" is already present in the model. Skipping addition.\n",
      "  warn(message=msg, category=UserWarning)\n",
      "/home/stefano/miniconda3/envs/test/lib/python3.9/site-packages/cobramod/core/creation.py:1129: UserWarning: Reaction \"MB_GLYCEROL_3P_c\" is already present in the model. Skipping addition.\n",
      "  warn(message=msg, category=UserWarning)\n",
      "/home/stefano/miniconda3/envs/test/lib/python3.9/site-packages/cobramod/core/creation.py:1129: UserWarning: Reaction \"MB_ILE_c\" is already present in the model. Skipping addition.\n",
      "  warn(message=msg, category=UserWarning)\n",
      "/home/stefano/miniconda3/envs/test/lib/python3.9/site-packages/cobramod/core/creation.py:1129: UserWarning: Reaction \"MB_GLY_tRNAs_c\" is already present in the model. Skipping addition.\n",
      "  warn(message=msg, category=UserWarning)\n",
      "/home/stefano/miniconda3/envs/test/lib/python3.9/site-packages/cobramod/core/creation.py:1129: UserWarning: Reaction \"MB_Charged_GLY_tRNAs_c\" is already present in the model. Skipping addition.\n",
      "  warn(message=msg, category=UserWarning)\n",
      "/home/stefano/miniconda3/envs/test/lib/python3.9/site-packages/cobramod/core/creation.py:1129: UserWarning: Reaction \"MB_4_FUMARYL_ACETOACETATE_c\" is already present in the model. Skipping addition.\n",
      "  warn(message=msg, category=UserWarning)\n",
      "/home/stefano/miniconda3/envs/test/lib/python3.9/site-packages/cobramod/core/creation.py:1129: UserWarning: Reaction \"MB_GLUCURONATE_c\" is already present in the model. Skipping addition.\n",
      "  warn(message=msg, category=UserWarning)\n",
      "/home/stefano/miniconda3/envs/test/lib/python3.9/site-packages/cobramod/core/creation.py:1129: UserWarning: Reaction \"MB_ACETYL_COA_c\" is already present in the model. Skipping addition.\n",
      "  warn(message=msg, category=UserWarning)\n",
      "/home/stefano/miniconda3/envs/test/lib/python3.9/site-packages/cobramod/core/creation.py:1129: UserWarning: Reaction \"MB_SUCROSE_6P_c\" is already present in the model. Skipping addition.\n",
      "  warn(message=msg, category=UserWarning)\n",
      "/home/stefano/miniconda3/envs/test/lib/python3.9/site-packages/cobramod/core/creation.py:1129: UserWarning: Reaction \"MB_DTDP_c\" is already present in the model. Skipping addition.\n",
      "  warn(message=msg, category=UserWarning)\n",
      "/home/stefano/miniconda3/envs/test/lib/python3.9/site-packages/cobramod/core/creation.py:1129: UserWarning: Reaction \"MB_HYDROGEN_PEROXIDE_c\" is already present in the model. Skipping addition.\n",
      "  warn(message=msg, category=UserWarning)\n",
      "/home/stefano/miniconda3/envs/test/lib/python3.9/site-packages/cobramod/core/creation.py:1129: UserWarning: Reaction \"MB_METHYLENE_THF_c\" is already present in the model. Skipping addition.\n",
      "  warn(message=msg, category=UserWarning)\n",
      "/home/stefano/miniconda3/envs/test/lib/python3.9/site-packages/cobramod/core/creation.py:1129: UserWarning: Reaction \"MB_ETHANOL_AMINE_c\" is already present in the model. Skipping addition.\n",
      "  warn(message=msg, category=UserWarning)\n",
      "/home/stefano/miniconda3/envs/test/lib/python3.9/site-packages/cobramod/core/creation.py:1129: UserWarning: Reaction \"MB_DTTP_c\" is already present in the model. Skipping addition.\n",
      "  warn(message=msg, category=UserWarning)\n",
      "/home/stefano/miniconda3/envs/test/lib/python3.9/site-packages/cobramod/core/creation.py:1129: UserWarning: Reaction \"MB_XYLAN_c\" is already present in the model. Skipping addition.\n",
      "  warn(message=msg, category=UserWarning)\n",
      "/home/stefano/miniconda3/envs/test/lib/python3.9/site-packages/cobramod/core/creation.py:1129: UserWarning: Reaction \"MB_ALA_tRNAs_c\" is already present in the model. Skipping addition.\n",
      "  warn(message=msg, category=UserWarning)\n",
      "/home/stefano/miniconda3/envs/test/lib/python3.9/site-packages/cobramod/core/creation.py:1129: UserWarning: Reaction \"MB_Charged_ALA_tRNAs_c\" is already present in the model. Skipping addition.\n",
      "  warn(message=msg, category=UserWarning)\n",
      "/home/stefano/miniconda3/envs/test/lib/python3.9/site-packages/cobramod/core/creation.py:1129: UserWarning: Reaction \"MB_PHE_tRNAs_c\" is already present in the model. Skipping addition.\n",
      "  warn(message=msg, category=UserWarning)\n",
      "/home/stefano/miniconda3/envs/test/lib/python3.9/site-packages/cobramod/core/creation.py:1129: UserWarning: Reaction \"MB_Charged_PHE_tRNAs_c\" is already present in the model. Skipping addition.\n",
      "  warn(message=msg, category=UserWarning)\n",
      "/home/stefano/miniconda3/envs/test/lib/python3.9/site-packages/cobramod/core/creation.py:1129: UserWarning: Reaction \"MB_CPD_510_c\" is already present in the model. Skipping addition.\n",
      "  warn(message=msg, category=UserWarning)\n",
      "/home/stefano/miniconda3/envs/test/lib/python3.9/site-packages/cobramod/core/creation.py:1129: UserWarning: Reaction \"MB_TYR_tRNAs_c\" is already present in the model. Skipping addition.\n",
      "  warn(message=msg, category=UserWarning)\n",
      "/home/stefano/miniconda3/envs/test/lib/python3.9/site-packages/cobramod/core/creation.py:1129: UserWarning: Reaction \"MB_Charged_TYR_tRNAs_c\" is already present in the model. Skipping addition.\n",
      "  warn(message=msg, category=UserWarning)\n",
      "/home/stefano/miniconda3/envs/test/lib/python3.9/site-packages/cobramod/core/creation.py:1129: UserWarning: Reaction \"MB_KI_c\" is already present in the model. Skipping addition.\n",
      "  warn(message=msg, category=UserWarning)\n",
      "/home/stefano/miniconda3/envs/test/lib/python3.9/site-packages/cobramod/core/creation.py:1129: UserWarning: Reaction \"MB_VAL_tRNAs_c\" is already present in the model. Skipping addition.\n",
      "  warn(message=msg, category=UserWarning)\n",
      "/home/stefano/miniconda3/envs/test/lib/python3.9/site-packages/cobramod/core/creation.py:1129: UserWarning: Reaction \"MB_Charged_VAL_tRNAs_c\" is already present in the model. Skipping addition.\n",
      "  warn(message=msg, category=UserWarning)\n",
      "/home/stefano/miniconda3/envs/test/lib/python3.9/site-packages/cobramod/core/creation.py:1129: UserWarning: Reaction \"MB_10_FORMYL_THF_c\" is already present in the model. Skipping addition.\n",
      "  warn(message=msg, category=UserWarning)\n",
      "/home/stefano/miniconda3/envs/test/lib/python3.9/site-packages/cobramod/core/creation.py:1129: UserWarning: Reaction \"MB_FORMATE_c\" is already present in the model. Skipping addition.\n",
      "  warn(message=msg, category=UserWarning)\n",
      "/home/stefano/miniconda3/envs/test/lib/python3.9/site-packages/cobramod/core/creation.py:1129: UserWarning: Reaction \"MB_PRO_tRNAs_c\" is already present in the model. Skipping addition.\n",
      "  warn(message=msg, category=UserWarning)\n",
      "/home/stefano/miniconda3/envs/test/lib/python3.9/site-packages/cobramod/core/creation.py:1129: UserWarning: Reaction \"MB_Charged_PRO_tRNAs_c\" is already present in the model. Skipping addition.\n",
      "  warn(message=msg, category=UserWarning)\n",
      "/home/stefano/miniconda3/envs/test/lib/python3.9/site-packages/cobramod/core/creation.py:1129: UserWarning: Reaction \"MB_DELTA3_ISOPENTENYL_PP_c\" is already present in the model. Skipping addition.\n",
      "  warn(message=msg, category=UserWarning)\n",
      "/home/stefano/miniconda3/envs/test/lib/python3.9/site-packages/cobramod/core/creation.py:1129: UserWarning: Reaction \"MB_ASN_tRNAs_c\" is already present in the model. Skipping addition.\n",
      "  warn(message=msg, category=UserWarning)\n",
      "/home/stefano/miniconda3/envs/test/lib/python3.9/site-packages/cobramod/core/creation.py:1129: UserWarning: Reaction \"MB_Charged_ASN_tRNAs_c\" is already present in the model. Skipping addition.\n",
      "  warn(message=msg, category=UserWarning)\n",
      "/home/stefano/miniconda3/envs/test/lib/python3.9/site-packages/cobramod/core/creation.py:1129: UserWarning: Reaction \"MB_ACETOACETATE_c\" is already present in the model. Skipping addition.\n",
      "  warn(message=msg, category=UserWarning)\n",
      "/home/stefano/miniconda3/envs/test/lib/python3.9/site-packages/cobramod/core/creation.py:1129: UserWarning: Reaction \"MB_Fatty_Acids_c\" is already present in the model. Skipping addition.\n",
      "  warn(message=msg, category=UserWarning)\n",
      "/home/stefano/miniconda3/envs/test/lib/python3.9/site-packages/cobramod/core/creation.py:1129: UserWarning: Reaction \"MB_CPD_14553_c\" is already present in the model. Skipping addition.\n",
      "  warn(message=msg, category=UserWarning)\n",
      "/home/stefano/miniconda3/envs/test/lib/python3.9/site-packages/cobramod/core/creation.py:1129: UserWarning: Reaction \"MB_CPD_674_c\" is already present in the model. Skipping addition.\n",
      "  warn(message=msg, category=UserWarning)\n",
      "/home/stefano/miniconda3/envs/test/lib/python3.9/site-packages/cobramod/core/creation.py:1129: UserWarning: Reaction \"MB_COUMARATE_c\" is already present in the model. Skipping addition.\n",
      "  warn(message=msg, category=UserWarning)\n",
      "/home/stefano/miniconda3/envs/test/lib/python3.9/site-packages/cobramod/core/creation.py:1129: UserWarning: Reaction \"MB_4_HYDROXYBENZALDEHYDE_c\" is already present in the model. Skipping addition.\n",
      "  warn(message=msg, category=UserWarning)\n",
      "/home/stefano/miniconda3/envs/test/lib/python3.9/site-packages/cobramod/core/creation.py:1129: UserWarning: Reaction \"MB_CPD_7616_c\" is already present in the model. Skipping addition.\n",
      "  warn(message=msg, category=UserWarning)\n",
      "/home/stefano/miniconda3/envs/test/lib/python3.9/site-packages/cobramod/core/creation.py:1129: UserWarning: Reaction \"MB_VANILLIN_c\" is already present in the model. Skipping addition.\n",
      "  warn(message=msg, category=UserWarning)\n",
      "/home/stefano/miniconda3/envs/test/lib/python3.9/site-packages/cobramod/core/creation.py:1129: UserWarning: Reaction \"MB_P_COUMAROYL_COA_c\" is already present in the model. Skipping addition.\n",
      "  warn(message=msg, category=UserWarning)\n",
      "/home/stefano/miniconda3/envs/test/lib/python3.9/site-packages/cobramod/core/creation.py:1129: UserWarning: Reaction \"MB_SHIKIMATE_c\" is already present in the model. Skipping addition.\n",
      "  warn(message=msg, category=UserWarning)\n",
      "/home/stefano/miniconda3/envs/test/lib/python3.9/site-packages/cobramod/core/creation.py:1129: UserWarning: Reaction \"MB_CPD_412_c\" is already present in the model. Skipping addition.\n",
      "  warn(message=msg, category=UserWarning)\n",
      "/home/stefano/miniconda3/envs/test/lib/python3.9/site-packages/cobramod/core/creation.py:1129: UserWarning: Reaction \"MB_CAFFEOYLSHIKIMATE_c\" is already present in the model. Skipping addition.\n",
      "  warn(message=msg, category=UserWarning)\n",
      "/home/stefano/miniconda3/envs/test/lib/python3.9/site-packages/cobramod/core/creation.py:1129: UserWarning: Reaction \"MB_CAFFEOYL_COA_c\" is already present in the model. Skipping addition.\n",
      "  warn(message=msg, category=UserWarning)\n",
      "/home/stefano/miniconda3/envs/test/lib/python3.9/site-packages/cobramod/core/creation.py:1129: UserWarning: Reaction \"MB_CPD_676_c\" is already present in the model. Skipping addition.\n",
      "  warn(message=msg, category=UserWarning)\n",
      "/home/stefano/miniconda3/envs/test/lib/python3.9/site-packages/cobramod/core/creation.py:1129: UserWarning: Reaction \"MB_FERULIC_ACID_c\" is already present in the model. Skipping addition.\n",
      "  warn(message=msg, category=UserWarning)\n",
      "/home/stefano/miniconda3/envs/test/lib/python3.9/site-packages/cobramod/core/creation.py:1129: UserWarning: Reaction \"MB_FERULOYL_COA_c\" is already present in the model. Skipping addition.\n",
      "  warn(message=msg, category=UserWarning)\n",
      "/home/stefano/miniconda3/envs/test/lib/python3.9/site-packages/cobramod/core/creation.py:1129: UserWarning: Reaction \"MB_ACETOVANILLONE_c\" is already present in the model. Skipping addition.\n",
      "  warn(message=msg, category=UserWarning)\n",
      "/home/stefano/miniconda3/envs/test/lib/python3.9/site-packages/cobramod/core/creation.py:1129: UserWarning: Reaction \"MB_5_HYDROXY_ACETOVANILLONE_c\" is already present in the model. Skipping addition.\n",
      "  warn(message=msg, category=UserWarning)\n",
      "/home/stefano/miniconda3/envs/test/lib/python3.9/site-packages/cobramod/core/creation.py:1129: UserWarning: Reaction \"MB_ACETOSYRINGONE_c\" is already present in the model. Skipping addition.\n",
      "  warn(message=msg, category=UserWarning)\n",
      "/home/stefano/miniconda3/envs/test/lib/python3.9/site-packages/cobramod/core/creation.py:1129: UserWarning: Reaction \"MB_5_HYDROXY_FERULIC_ACID_c\" is already present in the model. Skipping addition.\n",
      "  warn(message=msg, category=UserWarning)\n",
      "/home/stefano/miniconda3/envs/test/lib/python3.9/site-packages/cobramod/core/creation.py:1129: UserWarning: Reaction \"MB_SINAPATE_c\" is already present in the model. Skipping addition.\n",
      "  warn(message=msg, category=UserWarning)\n",
      "/home/stefano/miniconda3/envs/test/lib/python3.9/site-packages/cobramod/core/creation.py:1129: UserWarning: Reaction \"MB_SYRINGALDEHYDE_c\" is already present in the model. Skipping addition.\n",
      "  warn(message=msg, category=UserWarning)\n",
      "/home/stefano/miniconda3/envs/test/lib/python3.9/site-packages/cobramod/core/creation.py:1129: UserWarning: Reaction \"MB_SYRINGIC_ACID_c\" is already present in the model. Skipping addition.\n",
      "  warn(message=msg, category=UserWarning)\n",
      "/home/stefano/miniconda3/envs/test/lib/python3.9/site-packages/cobramod/core/creation.py:1129: UserWarning: Reaction \"MB_VANILLIC_ACID_c\" is already present in the model. Skipping addition.\n",
      "  warn(message=msg, category=UserWarning)\n"
     ]
    }
   ],
   "source": [
    "for identifier in metabolites:\n",
    "    add_reactions(\n",
    "        model=c4_model,\n",
    "        obj=f\"MB_{identifier}, {identifier} bundle sheath/mesophyll cell \"\n",
    "        f\"transporter | M_{identifier} <-> B_{identifier}\",\n",
    "        show_imbalance=False,\n",
    "        directory=dir_data,\n",
    "    )\n",
    "    assert c4_model.reactions.get_by_id(f\"MB_{identifier}\")"
   ]
  },
  {
   "cell_type": "code",
   "execution_count": 16,
   "id": "a1885713",
   "metadata": {
    "scrolled": true,
    "slideshow": {
     "slide_type": "skip"
    }
   },
   "outputs": [
    {
     "name": "stdout",
     "output_type": "stream",
     "text": [
      "NITRATE\r\n",
      "NITRITE\r\n",
      "OXYGEN_MOLECULE\r\n",
      "aHS\r\n",
      "SULFATE\r\n",
      "WATER\r\n",
      "FRUCTOSE_16_DIPHOSPHATE\r\n",
      "DPG\r\n",
      "PROTON\r\n",
      "ACETALD\r\n",
      "ACET\r\n",
      "5_10_METHENYL_THF\r\n",
      "5_METHYL_THF\r\n",
      "HOMO_CYS\r\n",
      "ADENOSYL_HOMO_CYS\r\n",
      "ACETYLSERINE\r\n",
      "THF\r\n",
      "ADENOSINE\r\n",
      "MALTOSE\r\n",
      "CO_A\r\n",
      "L_GLUTAMATE_5_P\r\n",
      "aL_GLUTAMATE_5_P_c ACETYL_COA\r\n",
      "CELLULOSE\r\n",
      "L_GLUTAMATE_GAMMA_SEMIALDEHYDE\r\n",
      "S_ADENOSYLMETHIONINE\r\n",
      "PPI\r\n",
      "L_DELTA1_PYRROLINE_5_CARBOXYLATE\r\n",
      "AMMONIUM\r\n",
      "Pi\r\n",
      "CARBON_DIOXIDE\r\n",
      "OXALACETIC_ACID\r\n",
      "HCO3\r\n",
      "UTP\r\n",
      "aUTP\r\n",
      "UDP\r\n",
      "aUDP\r\n",
      "UDP_GLUCOSE\r\n",
      "ATP\r\n",
      "aATP\r\n",
      "ADP\r\n",
      "aADP\r\n",
      "AMP\r\n",
      "IMP\r\n",
      "aIMP\r\n",
      "XANTHOSINE_5_PHOSPHATE\r\n",
      "aXANTHOSINE_5_PHOSPHATE\r\n",
      "GTP\r\n",
      "aGTP\r\n",
      "GDP\r\n",
      "aGDP\r\n",
      "GMP\r\n",
      "aGMP\r\n",
      "bGMP\r\n",
      "GDP\r\n",
      "aGDP\r\n",
      "CDP\r\n",
      "DUMP\r\n",
      "DTMP\r\n",
      "aDTDP\r\n",
      "GTP\r\n",
      "DTTP aDTTP\r\n",
      "NAD\r\n",
      "NADH\r\n",
      "NADP\r\n",
      "NADPH\r\n"
     ]
    }
   ],
   "source": [
    "!cat model/metabolites.txt"
   ]
  },
  {
   "cell_type": "markdown",
   "id": "4277d48f",
   "metadata": {
    "slideshow": {
     "slide_type": "slide"
    }
   },
   "source": [
    "### C4-specific constrains\n",
    "\n",
    "- No CO2 uptake in bundle sheath cells\n",
    "- Block rubisco activity in the mesophyll\n",
    "- No oxygenation activity of bundle sheath rubisco (Stefano, is this set?)\n",
    "- Enforce NADP-ME decarboxylation pathways (e.g. in maize)\n",
    "\n",
    "Examples:"
   ]
  },
  {
   "cell_type": "markdown",
   "id": "601fbc94",
   "metadata": {
    "slideshow": {
     "slide_type": "notes"
    }
   },
   "source": [
    "- Notes\n",
    "\n",
    "- CONSTRAINT: No CO2 uptake in bundle sheath cells due to suberin layer in cell membranes\n",
    "- Force C4 cycle: Block Rubisco carboxylase/oxygenase in Mesophyll\n",
    "- Force NADP-ME decarboxylation pathway: Block all other decarboxylation reactions except NADP_ME in the plastid/ make alternative decarboxylation routes irreversible"
   ]
  },
  {
   "cell_type": "code",
   "execution_count": 17,
   "id": "d430a801",
   "metadata": {
    "slideshow": {
     "slide_type": "fragment"
    }
   },
   "outputs": [],
   "source": [
    "c4_model.reactions.get_by_id(\"B_CO2_tx\").bounds = (0, 0)\n",
    "# Carboxylase\n",
    "c4_model.reactions.get_by_id(\n",
    "    \"M_RIBULOSE_BISPHOSPHATE_CARBOXYLASE_RXN_p\"\n",
    ").bounds = (0, 0)\n",
    "# Oxygenase\n",
    "c4_model.reactions.get_by_id(\"M_RXN_961_p\").bounds = (0, 0)"
   ]
  },
  {
   "cell_type": "code",
   "execution_count": 18,
   "id": "5f3c1598",
   "metadata": {
    "slideshow": {
     "slide_type": "skip"
    }
   },
   "outputs": [],
   "source": [
    "# Force NADP-ME decarboxylation pathway:\n",
    "# Block all other decarboxylation reactions except NADP_ME in the plastid\n",
    "c4_model.reactions.get_by_id(\"B_PEPCARBOXYKIN_RXN_c\").bounds = (0, 0)\n",
    "c4_model.reactions.get_by_id(\n",
    "    \"B_1_PERIOD_1_PERIOD_1_PERIOD_39_RXN_m\"\n",
    ").bounds = (0, 0)\n",
    "c4_model.reactions.get_by_id(\"B_MALIC_NADP_RXN_c\").bounds = (0, 0)\n"
   ]
  },
  {
   "cell_type": "code",
   "execution_count": 19,
   "id": "8b3b84df",
   "metadata": {
    "slideshow": {
     "slide_type": "skip"
    }
   },
   "outputs": [],
   "source": [
    "# Force NADP-ME decarboxylation pathways:\n",
    "# make alternative decarboxylation routes irreversible\n",
    "c4_model.reactions.get_by_id(\"B_CARBAMATE_KINASE_RXN_p\").bounds = (\n",
    "    0,\n",
    "    1000,\n",
    ")\n",
    "c4_model.reactions.get_by_id(\"M_CARBAMATE_KINASE_RXN_p\").bounds = (\n",
    "    0,\n",
    "    1000,\n",
    ")\n",
    "c4_model.reactions.get_by_id(\"B_ISOCITDEH_RXN_m\").bounds = (0, 1000)\n",
    "c4_model.reactions.get_by_id(\"M_ISOCITDEH_RXN_m\").bounds = (0, 1000)\n",
    "c4_model.reactions.get_by_id(\"B_ISOCITDEH_RXN_c\").bounds = (0, 1000)\n",
    "c4_model.reactions.get_by_id(\"M_ISOCITDEH_RXN_c\").bounds = (0, 1000)\n",
    "c4_model.reactions.get_by_id(\"B_ISOCITRATE_DEHYDROGENASE_NAD_RXN_m\").bounds = (\n",
    "    0,\n",
    "    1000,\n",
    ")\n",
    "c4_model.reactions.get_by_id(\"M_ISOCITRATE_DEHYDROGENASE_NAD_RXN_m\").bounds = (\n",
    "    0,\n",
    "    1000,\n",
    ")"
   ]
  },
  {
   "cell_type": "code",
   "execution_count": 20,
   "id": "1526239a",
   "metadata": {
    "slideshow": {
     "slide_type": "skip"
    }
   },
   "outputs": [],
   "source": [
    "# skipped\n",
    "# Fix malate transport\n",
    "c4_model.reactions.get_by_id(\"B_OAA_MAL_pc\").bounds = (0, 1000)\n",
    "\n",
    "c4_model.reactions.get_by_id(\"B_PYRUVATE_pc\").bounds = (0, 0)\n",
    "\n",
    "c4_model.reactions.get_by_id(\n",
    "    \"M_PYRUVATEORTHOPHOSPHATE_DIKINASE_RXN_c\"\n",
    ").bounds = (0, 0)"
   ]
  },
  {
   "cell_type": "code",
   "execution_count": 21,
   "id": "f0e11201",
   "metadata": {
    "slideshow": {
     "slide_type": "skip"
    }
   },
   "outputs": [],
   "source": [
    "# Skipped\n",
    "# NGAM for C3\n",
    "const = c3_model.problem.Constraint(\n",
    "    (0.0049 * c3_model.reactions.Photon_tx.flux_expression + 2.7852)\n",
    "    - c3_model.reactions.ATPase_tx.flux_expression,\n",
    "    lb=0,\n",
    "    ub=0,\n",
    ")\n",
    "c3_model.add_cons_vars(const)\n",
    "\n",
    "# ATP/NADPH 3:1 constraints\n",
    "const = c3_model.problem.Constraint(\n",
    "    c3_model.reactions.ATPase_tx.flux_expression\n",
    "    - 3\n",
    "    * (\n",
    "        c3_model.reactions.NADPHoxc_tx.flux_expression\n",
    "        + c3_model.reactions.NADPHoxp_tx.flux_expression\n",
    "        + c3_model.reactions.NADPHoxm_tx.flux_expression\n",
    "    ),\n",
    "    lb=0,\n",
    "    ub=0,\n",
    ")\n",
    "c3_model.add_cons_vars(const)\n",
    "\n",
    "# Rubisco\n",
    "# ATP/NADPH 3:1 constraints\n",
    "const = c3_model.problem.Constraint(\n",
    "    3 * c3_model.reactions.RXN_961_p.flux_expression -\n",
    "    c3_model.reactions.RIBULOSE_BISPHOSPHATE_CARBOXYLASE_RXN_p.flux_expression, \n",
    "    lb=0,\n",
    "    ub=0,\n",
    ")\n",
    "c3_model.add_cons_vars(const)"
   ]
  },
  {
   "cell_type": "markdown",
   "id": "49f60654",
   "metadata": {
    "slideshow": {
     "slide_type": "slide"
    }
   },
   "source": [
    "### Using more complex constrains\n",
    "\n",
    "- Using `Constraint` objects\n",
    "- Define expression and their bounds\n",
    "- Can combine multiple reactions"
   ]
  },
  {
   "cell_type": "markdown",
   "id": "5f8503ac",
   "metadata": {
    "slideshow": {
     "slide_type": "subslide"
    }
   },
   "source": [
    "Example: Sum of photon uptake in mesophyll and bundle sheath\n",
    "cells cannot surpass 200"
   ]
  },
  {
   "cell_type": "code",
   "execution_count": 22,
   "id": "e145aaae",
   "metadata": {
    "slideshow": {
     "slide_type": "skip"
    }
   },
   "outputs": [],
   "source": [
    "# Skipped\n",
    "# Constrains for light dependent maintenance costs\n",
    "atp_b = c4_model.reactions.get_by_id(\"B_ATPase_tx\")\n",
    "photon_b = c4_model.reactions.get_by_id(\"B_Photon_tx\")\n",
    "atp_m = c4_model.reactions.get_by_id(\"M_ATPase_tx\")\n",
    "photon_m = c4_model.reactions.get_by_id(\"M_Photon_tx\")\n",
    "\n",
    "const_b = c4_model.problem.Constraint(\n",
    "    (0.0049 * photon_b.flux_expression + 2.7852) - atp_b.flux_expression,\n",
    "    lb=0,\n",
    "    ub=0,\n",
    ")\n",
    "\n",
    "const_m = c4_model.problem.Constraint(\n",
    "    (0.0049 * photon_m.flux_expression + 2.7852) - atp_m.flux_expression,\n",
    "    lb=0,\n",
    "    ub=0,\n",
    ")\n",
    "c4_model.add_cons_vars([const_b, const_m])"
   ]
  },
  {
   "cell_type": "code",
   "execution_count": 23,
   "id": "bf6b8048",
   "metadata": {
    "slideshow": {
     "slide_type": "fragment"
    }
   },
   "outputs": [],
   "source": [
    "# Light Uptake constrain\n",
    "B_photon = c4_model.reactions.get_by_id(\"B_Photon_tx\").flux_expression\n",
    "M_photon = c4_model.reactions.get_by_id(\"M_Photon_tx\").flux_expression\n",
    "\n",
    "# CONSTRAINT: Total Photon uptake limited to \"light\" µE\n",
    "photon_sum = c4_model.problem.Constraint(\n",
    "    B_photon + M_photon, lb=0, ub=200\n",
    ")\n",
    "\n",
    "# CONSTRAINT: Total Photon uptake by bundle sheath must be less or\n",
    "# equal than in mesophyll\n",
    "photon_ratio = c4_model.problem.Constraint(\n",
    "    M_photon - B_photon, lb=0, ub=200\n",
    ")\n",
    "\n",
    "c4_model.add_cons_vars([photon_sum, photon_ratio])"
   ]
  },
  {
   "cell_type": "code",
   "execution_count": 24,
   "id": "af5e3fd2",
   "metadata": {
    "slideshow": {
     "slide_type": "skip"
    }
   },
   "outputs": [],
   "source": [
    "# Skipped\n",
    "# CONSTRAINT : Total N uptake must not surpass defined upper bound\n",
    "bs_nitrate = c4_model.reactions.get_by_id(\"B_Nitrate_tx\").flux_expression\n",
    "m_nitrate = c4_model.reactions.get_by_id(\"M_Nitrate_tx\").flux_expression\n",
    "\n",
    "nitrate_ratio = c4_model.problem.Constraint(\n",
    "    bs_nitrate + m_nitrate, lb=0, ub=1000\n",
    ")\n",
    "\n",
    "c4_model.add_cons_vars([nitrate_ratio])"
   ]
  },
  {
   "cell_type": "code",
   "execution_count": 25,
   "id": "79ccd6ef",
   "metadata": {
    "slideshow": {
     "slide_type": "skip"
    }
   },
   "outputs": [],
   "source": [
    "# Skipped\n",
    "# ATP/NADPH 3:1 constraints\n",
    "for cell in [\"B_\", \"M_\"]:\n",
    "    const = c4_model.problem.Constraint(\n",
    "        c4_model.reactions.get_by_id(f\"{cell}ATPase_tx\").flux_expression\n",
    "        - 3\n",
    "        * (\n",
    "            c4_model.reactions.get_by_id(f\"{cell}NADPHoxc_tx\").flux_expression\n",
    "            + c4_model.reactions.get_by_id(\n",
    "                f\"{cell}NADPHoxp_tx\"\n",
    "            ).flux_expression\n",
    "            + c4_model.reactions.get_by_id(\n",
    "                f\"{cell}NADPHoxm_tx\"\n",
    "            ).flux_expression\n",
    "        ),\n",
    "        lb=0,\n",
    "        ub=0,\n",
    "    )\n",
    "    c4_model.add_cons_vars(const)\n"
   ]
  },
  {
   "cell_type": "markdown",
   "id": "1e6b82ae",
   "metadata": {
    "slideshow": {
     "slide_type": "slide"
    }
   },
   "source": [
    "### Simulating the model by optimising biomass production\n",
    "\n",
    "$\\rightarrow$ new biomass reaction (there should not be a \"new\" biomass)\n",
    "\n",
    "Solution example:"
   ]
  },
  {
   "cell_type": "code",
   "execution_count": 26,
   "id": "e0860b19",
   "metadata": {
    "scrolled": true,
    "slideshow": {
     "slide_type": "fragment"
    }
   },
   "outputs": [
    {
     "data": {
      "text/html": [
       "<strong><em>Optimal</em> solution with objective value 0.175</strong><br><div>\n",
       "<style scoped>\n",
       "    .dataframe tbody tr th:only-of-type {\n",
       "        vertical-align: middle;\n",
       "    }\n",
       "\n",
       "    .dataframe tbody tr th {\n",
       "        vertical-align: top;\n",
       "    }\n",
       "\n",
       "    .dataframe thead th {\n",
       "        text-align: right;\n",
       "    }\n",
       "</style>\n",
       "<table border=\"1\" class=\"dataframe\">\n",
       "  <thead>\n",
       "    <tr style=\"text-align: right;\">\n",
       "      <th></th>\n",
       "      <th>fluxes</th>\n",
       "      <th>reduced_costs</th>\n",
       "    </tr>\n",
       "  </thead>\n",
       "  <tbody>\n",
       "    <tr>\n",
       "      <th>M_PRO_PROTON_vc</th>\n",
       "      <td>0.000000e+00</td>\n",
       "      <td>0.000000e+00</td>\n",
       "    </tr>\n",
       "    <tr>\n",
       "      <th>M_Ca_tx</th>\n",
       "      <td>0.000000e+00</td>\n",
       "      <td>-0.000000e+00</td>\n",
       "    </tr>\n",
       "    <tr>\n",
       "      <th>M_H2O_xc</th>\n",
       "      <td>-4.458611e-01</td>\n",
       "      <td>-0.000000e+00</td>\n",
       "    </tr>\n",
       "    <tr>\n",
       "      <th>M_sCIT_biomass</th>\n",
       "      <td>0.000000e+00</td>\n",
       "      <td>-0.000000e+00</td>\n",
       "    </tr>\n",
       "    <tr>\n",
       "      <th>M_ACETYLGLUTKIN_RXN_p</th>\n",
       "      <td>0.000000e+00</td>\n",
       "      <td>-1.734723e-18</td>\n",
       "    </tr>\n",
       "    <tr>\n",
       "      <th>...</th>\n",
       "      <td>...</td>\n",
       "      <td>...</td>\n",
       "    </tr>\n",
       "    <tr>\n",
       "      <th>MB_SINAPATE_c</th>\n",
       "      <td>-4.805257e-16</td>\n",
       "      <td>0.000000e+00</td>\n",
       "    </tr>\n",
       "    <tr>\n",
       "      <th>MB_SYRINGALDEHYDE_c</th>\n",
       "      <td>4.805257e-16</td>\n",
       "      <td>-0.000000e+00</td>\n",
       "    </tr>\n",
       "    <tr>\n",
       "      <th>MB_SYRINGIC_ACID_c</th>\n",
       "      <td>0.000000e+00</td>\n",
       "      <td>-8.326673e-17</td>\n",
       "    </tr>\n",
       "    <tr>\n",
       "      <th>MB_VANILLIC_ACID_c</th>\n",
       "      <td>0.000000e+00</td>\n",
       "      <td>-8.196568e-17</td>\n",
       "    </tr>\n",
       "    <tr>\n",
       "      <th>MB_SHIKIMATE_c</th>\n",
       "      <td>0.000000e+00</td>\n",
       "      <td>0.000000e+00</td>\n",
       "    </tr>\n",
       "  </tbody>\n",
       "</table>\n",
       "<p>1956 rows × 2 columns</p>\n",
       "</div>"
      ],
      "text/plain": [
       "<Solution 0.175 at 0x7fe88b3c7340>"
      ]
     },
     "execution_count": 26,
     "metadata": {},
     "output_type": "execute_result"
    }
   ],
   "source": [
    "c4_model.objective = \"B_AraCore_Biomass_tx\"\n",
    "c4_model.optimize()"
   ]
  },
  {
   "cell_type": "markdown",
   "id": "e49c8839",
   "metadata": {
    "slideshow": {
     "slide_type": "slide"
    }
   },
   "source": [
    "### Obtaining solutions\n",
    "\n",
    "Saving solutions for the C4 and C3 model to comparison"
   ]
  },
  {
   "cell_type": "code",
   "execution_count": 27,
   "id": "876bd0ae",
   "metadata": {
    "slideshow": {
     "slide_type": "fragment"
    }
   },
   "outputs": [],
   "source": [
    "c4_model.objective = \"B_AraCore_Biomass_tx\"\n",
    "c4_solution = c4_model.optimize()"
   ]
  },
  {
   "cell_type": "code",
   "execution_count": 28,
   "id": "1c206c5b",
   "metadata": {
    "scrolled": false,
    "slideshow": {
     "slide_type": "fragment"
    }
   },
   "outputs": [],
   "source": [
    "c3_model.reactions.get_by_id(\"Photon_tx\").bounds = (0, 200)\n",
    "c3_model.objective = \"AraCore_Biomass_tx\"\n",
    "c3_solution = c3_model.optimize()"
   ]
  },
  {
   "cell_type": "markdown",
   "id": "84460c37",
   "metadata": {
    "slideshow": {
     "slide_type": "slide"
    }
   },
   "source": [
    "### C4 mechanismus \n",
    "\n",
    "<img src=\"img/C4_model.png\" alt=\"drawing\" width=\"680\"/>\n",
    "<font size=\"5\">PEPC: PEP Carboxylase; MAL-DEH : Malate Dehydrogenase; NADP-ME: NADP Malic enzyme; PPDK: Pyruvate, phosphate dikinase.</font>\n",
    " \n"
   ]
  },
  {
   "cell_type": "markdown",
   "id": "d72148fd",
   "metadata": {
    "slideshow": {
     "slide_type": "slide"
    }
   },
   "source": [
    "### Comparison"
   ]
  },
  {
   "cell_type": "markdown",
   "id": "4874c74e",
   "metadata": {
    "slideshow": {
     "slide_type": "subslide"
    }
   },
   "source": [
    "#### Malate Dehydrogenase"
   ]
  },
  {
   "cell_type": "code",
   "execution_count": 29,
   "id": "03e9e2fc",
   "metadata": {
    "slideshow": {
     "slide_type": "fragment"
    }
   },
   "outputs": [
    {
     "name": "stdout",
     "output_type": "stream",
     "text": [
      "M_MALATE_DEH_RXN_c 0.42254251702609696\n",
      "M_MALATE_DEH_RXN_p 0.0\n",
      "B_MALATE_DEH_RXN_c -0.6833695023140559\n",
      "B_MALATE_DEH_RXN_p 0.0\n"
     ]
    }
   ],
   "source": [
    "for reaction in c4_model.reactions.query(\"MALATE_DEH_RXN_[c,p]\"):\n",
    "    print(reaction.id,  c4_solution.fluxes[reaction.id])"
   ]
  },
  {
   "cell_type": "code",
   "execution_count": 30,
   "id": "6945adff",
   "metadata": {
    "scrolled": true,
    "slideshow": {
     "slide_type": "fragment"
    }
   },
   "outputs": [
    {
     "name": "stdout",
     "output_type": "stream",
     "text": [
      "MALATE_DEH_RXN_c 1.0948460727088143\n",
      "MALATE_DEH_RXN_p 4.630936553466511\n"
     ]
    }
   ],
   "source": [
    "for reaction in c3_model.reactions.query(\"MALATE_DEH_RXN_[c,p]\"):\n",
    "    print(reaction.id,  c3_solution.fluxes[reaction.id])"
   ]
  },
  {
   "cell_type": "markdown",
   "id": "f815e60c",
   "metadata": {
    "slideshow": {
     "slide_type": "subslide"
    }
   },
   "source": [
    "#### RuBisco reactions"
   ]
  },
  {
   "cell_type": "code",
   "execution_count": 31,
   "id": "53c09930",
   "metadata": {
    "scrolled": false,
    "slideshow": {
     "slide_type": "fragment"
    }
   },
   "outputs": [
    {
     "name": "stdout",
     "output_type": "stream",
     "text": [
      "M_RIBULOSE_BISPHOSPHATE_CARBOXYLASE_RXN_p 0.0\n",
      "B_RIBULOSE_BISPHOSPHATE_CARBOXYLASE_RXN_p 16.443645880987933\n",
      "M_RXN_961_p 0.0\n",
      "B_RXN_961_p 0.0\n"
     ]
    }
   ],
   "source": [
    "for reaction in c4_model.reactions.query(\"RIBULOSE_BISPHOSPHATE_CARBOXYLASE_RXN\"):\n",
    "    print(reaction.id,  c4_solution.fluxes[reaction.id])\n",
    "for reaction in c4_model.reactions.query(\"RXN_961\"):\n",
    "    print(reaction.id,  c4_solution.fluxes[reaction.id])"
   ]
  },
  {
   "cell_type": "code",
   "execution_count": 32,
   "id": "4c44e144",
   "metadata": {
    "scrolled": true,
    "slideshow": {
     "slide_type": "fragment"
    }
   },
   "outputs": [
    {
     "name": "stdout",
     "output_type": "stream",
     "text": [
      "RIBULOSE_BISPHOSPHATE_CARBOXYLASE_RXN_p 14.21464721787285\n",
      "RXN_961_p 4.73821573929095\n"
     ]
    }
   ],
   "source": [
    "for reaction in c3_model.reactions.query(\"RIBULOSE_BISPHOSPHATE_CARBOXYLASE_RXN\"):\n",
    "    print(reaction.id,  c3_solution.fluxes[reaction.id])\n",
    "for reaction in c3_model.reactions.query(\"RXN_961\"):\n",
    "    print(reaction.id,  c3_solution.fluxes[reaction.id])"
   ]
  },
  {
   "cell_type": "markdown",
   "id": "50daa7ac",
   "metadata": {
    "slideshow": {
     "slide_type": "subslide"
    }
   },
   "source": [
    "#### Nitrate intake"
   ]
  },
  {
   "cell_type": "code",
   "execution_count": 33,
   "id": "e5b6f2a9",
   "metadata": {
    "slideshow": {
     "slide_type": "fragment"
    }
   },
   "outputs": [
    {
     "name": "stdout",
     "output_type": "stream",
     "text": [
      "M_Nitrate_tx 0.0\n",
      "B_Nitrate_tx 1.3301677953996625\n"
     ]
    }
   ],
   "source": [
    "for reaction in c4_model.reactions.query(\"Nitrate_tx\"):\n",
    "    print(reaction.id,  c4_solution.fluxes[reaction.id])"
   ]
  },
  {
   "cell_type": "code",
   "execution_count": 34,
   "id": "0d03f75d",
   "metadata": {
    "slideshow": {
     "slide_type": "fragment"
    }
   },
   "outputs": [
    {
     "name": "stdout",
     "output_type": "stream",
     "text": [
      "Nitrate_tx 1.0823432489141842\n"
     ]
    }
   ],
   "source": [
    "for reaction in c3_model.reactions.query(\"Nitrate_tx\"):\n",
    "    print(reaction.id,  c3_solution.fluxes[reaction.id])"
   ]
  },
  {
   "cell_type": "markdown",
   "id": "3c54c292",
   "metadata": {
    "slideshow": {
     "slide_type": "subslide"
    }
   },
   "source": [
    "#### CO2 intake and O2 output "
   ]
  },
  {
   "cell_type": "code",
   "execution_count": 35,
   "id": "1c66bdb9",
   "metadata": {
    "slideshow": {
     "slide_type": "fragment"
    }
   },
   "outputs": [
    {
     "name": "stdout",
     "output_type": "stream",
     "text": [
      "M_CO2_tx 15.161925330403678\n",
      "M_O2_tx -11.014842693408811\n",
      "B_CO2_tx 0.0\n",
      "B_O2_tx -7.683563978289961\n"
     ]
    }
   ],
   "source": [
    "for reaction in c4_model.reactions.query(\"O2_tx\"):\n",
    "    print(reaction.id,  c4_solution.fluxes[reaction.id])"
   ]
  },
  {
   "cell_type": "code",
   "execution_count": 36,
   "id": "f41e1ac3",
   "metadata": {
    "slideshow": {
     "slide_type": "fragment"
    }
   },
   "outputs": [
    {
     "name": "stdout",
     "output_type": "stream",
     "text": [
      "CO2_tx 12.337095799987418\n",
      "O2_tx -15.214692685057068\n"
     ]
    }
   ],
   "source": [
    "for reaction in c3_model.reactions.query(\"O2_tx\"):\n",
    "    print(reaction.id,  c3_solution.fluxes[reaction.id])"
   ]
  },
  {
   "cell_type": "markdown",
   "id": "e54d7a84",
   "metadata": {
    "slideshow": {
     "slide_type": "slide"
    }
   },
   "source": [
    "### Questions?"
   ]
  },
  {
   "cell_type": "markdown",
   "id": "5922dc7d",
   "metadata": {
    "slideshow": {
     "slide_type": "slide"
    }
   },
   "source": [
    "### Thank you very much!!"
   ]
  }
 ],
 "metadata": {
  "celltoolbar": "Slideshow",
  "kernelspec": {
   "display_name": "Python 3 (ipykernel)",
   "language": "python",
   "name": "python3"
  },
  "language_info": {
   "codemirror_mode": {
    "name": "ipython",
    "version": 3
   },
   "file_extension": ".py",
   "mimetype": "text/x-python",
   "name": "python",
   "nbconvert_exporter": "python",
   "pygments_lexer": "ipython3",
   "version": "3.9.6"
  },
  "rise": {
   "enable_chalkboard": true,
   "overlay": "<div class='myfooter'>GCB conference 2021</div><div class='logo'><img src='img/ipk_logo.jpg' alt='IPK'></div>",
   "rise": {
    "autolaunch": true
   },
   "scroll": true
  }
 },
 "nbformat": 4,
 "nbformat_minor": 5
}
